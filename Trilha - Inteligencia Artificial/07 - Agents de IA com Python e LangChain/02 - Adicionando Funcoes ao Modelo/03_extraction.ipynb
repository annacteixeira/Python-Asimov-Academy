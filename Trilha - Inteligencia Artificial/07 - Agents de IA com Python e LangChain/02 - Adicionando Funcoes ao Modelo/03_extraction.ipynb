{
 "cells": [
  {
   "cell_type": "markdown",
   "metadata": {},
   "source": [
    "# Extraction\n",
    "\n",
    "Outra aplicação comum para funções é a relização de extração de conteúdos do texto informado. Isso facilita o parseamento de informações em grande escala, em que podemos utilizar scripts para limpar textos informados, mantendo apenas o necessário da informação que o usuário necessita. Vamos começar com um exemplo simples, extraindo a informação de datas e acontecimentos de um texto."
   ]
  },
  {
   "cell_type": "markdown",
   "metadata": {},
   "source": [
    "## Extraindo datas e acontecimentos\n",
    "\n",
    "Digamos que temos um texto como o a seguir e queremos extrair datas e acontecimentos que aparecerem no texto:\n"
   ]
  },
  {
   "cell_type": "code",
   "execution_count": 2,
   "metadata": {},
   "outputs": [],
   "source": [
    "from dotenv import load_dotenv, find_dotenv\n",
    "\n",
    "_ = load_dotenv(find_dotenv())"
   ]
  },
  {
   "cell_type": "code",
   "execution_count": 3,
   "metadata": {},
   "outputs": [],
   "source": [
    "texto = '''A Apple foi fundada em 1 de abril de 1976 por Steve Wozniak, Steve Jobs e Ronald Wayne \n",
    "com o nome de Apple Computers, na Califórnia. O nome foi escolhido por Jobs após a visita do pomar \n",
    "de maçãs da fazenda de Robert Friedland, também pelo fato do nome soar bem e ficar antes da Atari \n",
    "nas listas telefônicas.\n",
    "\n",
    "O primeiro protótipo da empresa foi o Apple I que foi demonstrado na Homebrew Computer Club em 1975, \n",
    "as vendas começaram em julho de 1976 com o preço de US$ 666,66, aproximadamente 200 unidades foram \n",
    "vendidas,[21] em 1977 a empresa conseguiu o aporte de Mike Markkula e um empréstimo do Bank of America.'''"
   ]
  },
  {
   "cell_type": "code",
   "execution_count": 4,
   "metadata": {},
   "outputs": [
    {
     "data": {
      "text/plain": [
       "{'name': 'ListaAcontecimentos',\n",
       " 'description': 'Acontecimentos para extração',\n",
       " 'parameters': {'type': 'object',\n",
       "  'properties': {'acontecimentos': {'description': 'Lista de acontecimentos presentes no texto informado',\n",
       "    'type': 'array',\n",
       "    'items': {'description': 'Informação sobre um acontecimento',\n",
       "     'type': 'object',\n",
       "     'properties': {'data': {'description': 'Data do acontecimento no formato YYYY-MM-DD',\n",
       "       'type': 'string'},\n",
       "      'acontecimento': {'description': 'Acontecimento ecxtraído do texto',\n",
       "       'type': 'string'}},\n",
       "     'required': ['data', 'acontecimento']}}},\n",
       "  'required': ['acontecimentos']}}"
      ]
     },
     "execution_count": 4,
     "metadata": {},
     "output_type": "execute_result"
    }
   ],
   "source": [
    "from langchain.pydantic_v1 import BaseModel, Field\n",
    "from typing import List\n",
    "from langchain_core.utils.function_calling import convert_to_openai_function\n",
    "\n",
    "class Acontecimento(BaseModel):\n",
    "    '''Informação sobre um acontecimento'''\n",
    "    data: str = Field(description='Data do acontecimento no formato YYYY-MM-DD')\n",
    "    acontecimento: str = Field(description='Acontecimento ecxtraído do texto')\n",
    "\n",
    "class ListaAcontecimentos(BaseModel):\n",
    "    \"\"\"Acontecimentos para extração\"\"\"\n",
    "    acontecimentos: List[Acontecimento] = Field(description='Lista de acontecimentos presentes no texto informado')\n",
    "\n",
    "tool_acontecimentos = convert_to_openai_function(ListaAcontecimentos)\n",
    "tool_acontecimentos"
   ]
  },
  {
   "cell_type": "code",
   "execution_count": 5,
   "metadata": {},
   "outputs": [],
   "source": [
    "from langchain.prompts import ChatPromptTemplate\n",
    "from langchain_openai import ChatOpenAI\n",
    "\n",
    "prompt = ChatPromptTemplate.from_messages([\n",
    "    ('system', 'Extraia as frases de acontecimentos. Elas devem ser extraídas integralmente'),\n",
    "    ('user', '{input}')\n",
    "])\n",
    "chat = ChatOpenAI()\n",
    "\n",
    "chain = (prompt \n",
    "         | chat.bind(functions=[tool_acontecimentos], function_call={'name': 'ListaAcontecimentos'}))\n"
   ]
  },
  {
   "cell_type": "code",
   "execution_count": 7,
   "metadata": {},
   "outputs": [
    {
     "name": "stdout",
     "output_type": "stream",
     "text": [
      "content='' additional_kwargs={'function_call': {'arguments': '{\"acontecimentos\":[{\"data\":\"1976-04-01\",\"acontecimento\":\"A Apple foi fundada por Steve Wozniak, Steve Jobs e Ronald Wayne na Califórnia com o nome de Apple Computers.\"},{\"data\":\"1976-07\",\"acontecimento\":\"As vendas do Apple I começaram com o preço de US$ 666,66 e aproximadamente 200 unidades foram vendidas.\"},{\"data\":\"1977\",\"acontecimento\":\"A empresa conseguiu o aporte de Mike Markkula e um empréstimo do Bank of America.\"}]}', 'name': 'ListaAcontecimentos'}} response_metadata={'token_usage': {'completion_tokens': 123, 'prompt_tokens': 325, 'total_tokens': 448, 'completion_tokens_details': {'accepted_prediction_tokens': 0, 'audio_tokens': 0, 'reasoning_tokens': 0, 'rejected_prediction_tokens': 0}, 'prompt_tokens_details': {'audio_tokens': 0, 'cached_tokens': 0}}, 'model_name': 'gpt-3.5-turbo', 'system_fingerprint': None, 'finish_reason': 'stop', 'logprobs': None} id='run-6f5f289a-ff03-4bdf-8589-61808417d0f0-0'\n"
     ]
    }
   ],
   "source": [
    "print(chain.invoke({'input': texto}))"
   ]
  },
  {
   "cell_type": "code",
   "execution_count": 8,
   "metadata": {},
   "outputs": [
    {
     "data": {
      "text/plain": [
       "{'acontecimentos': [{'data': '1976-04-01',\n",
       "   'acontecimento': 'A Apple foi fundada por Steve Wozniak, Steve Jobs e Ronald Wayne com o nome de Apple Computers.'},\n",
       "  {'data': '1975',\n",
       "   'acontecimento': 'O primeiro protótipo da empresa, o Apple I, foi demonstrado na Homebrew Computer Club.'},\n",
       "  {'data': '1976-07',\n",
       "   'acontecimento': 'As vendas do Apple I começaram em julho de 1976 com o preço de US$ 666,66.'},\n",
       "  {'data': '1977',\n",
       "   'acontecimento': 'A empresa conseguiu o aporte de Mike Markkula e um empréstimo do Bank of America.'}]}"
      ]
     },
     "execution_count": 8,
     "metadata": {},
     "output_type": "execute_result"
    }
   ],
   "source": [
    "from langchain.output_parsers.openai_functions import JsonOutputFunctionsParser\n",
    "\n",
    "chain = (prompt \n",
    "         | chat.bind(functions=[tool_acontecimentos], function_call={'name': 'ListaAcontecimentos'})\n",
    "         | JsonOutputFunctionsParser())\n",
    "\n",
    "chain.invoke({'input': texto})"
   ]
  },
  {
   "cell_type": "code",
   "execution_count": 9,
   "metadata": {},
   "outputs": [
    {
     "data": {
      "text/plain": [
       "[{'data': '1976-04-01',\n",
       "  'acontecimento': 'A Apple foi fundada por Steve Wozniak, Steve Jobs e Ronald Wayne na Califórnia com o nome de Apple Computers.'},\n",
       " {'data': '1976-07',\n",
       "  'acontecimento': 'As vendas do Apple I começaram com o preço de US$ 666,66 e aproximadamente 200 unidades foram vendidas.'},\n",
       " {'data': '1977',\n",
       "  'acontecimento': 'A empresa recebeu o aporte de Mike Markkula e um empréstimo do Bank of America.'}]"
      ]
     },
     "execution_count": 9,
     "metadata": {},
     "output_type": "execute_result"
    }
   ],
   "source": [
    "from langchain.output_parsers.openai_functions import JsonKeyOutputFunctionsParser\n",
    "\n",
    "chain = (prompt \n",
    "         | chat.bind(functions=[tool_acontecimentos], function_call={'name': 'ListaAcontecimentos'})\n",
    "         | JsonKeyOutputFunctionsParser(key_name='acontecimentos'))\n",
    "\n",
    "chain.invoke({'input': texto})"
   ]
  },
  {
   "cell_type": "markdown",
   "metadata": {},
   "source": [
    "## Extraindo informações da web\n",
    "\n",
    "A aplicação de extração pode ser muito utilizanda quando combinada com técnicas de WebScraping. Em geral, em WebScraping estamos buscando informações em páginas web. Em sua grande maioria, essas informações virão comletamente desformatadas e em html, o que dificulta a utilização da informação. Podemos criar aplicações utilizando as técnicas que aprendemos para conseguir as informações específicas que precisamos das páginas que estamos analisando.\n",
    "\n",
    "Vamos dar um exemplo analisando a página de blog da Asimov e tentando extrair todas os posts contidos na página.\n",
    "https://hub.asimov.academy/blog/\n"
   ]
  },
  {
   "cell_type": "code",
   "execution_count": 10,
   "metadata": {},
   "outputs": [
    {
     "data": {
      "text/plain": [
       "[Document(page_content='Just a moment...Enable JavaScript and cookies to continue', metadata={'source': 'https://hub.asimov.academy/blog/', 'title': 'Just a moment...', 'language': 'en-US'})]"
      ]
     },
     "execution_count": 10,
     "metadata": {},
     "output_type": "execute_result"
    }
   ],
   "source": [
    "from langchain_community.document_loaders.web_base import WebBaseLoader\n",
    "\n",
    "loader = WebBaseLoader('https://hub.asimov.academy/blog/')\n",
    "page = loader.load()\n",
    "page"
   ]
  },
  {
   "cell_type": "code",
   "execution_count": 11,
   "metadata": {},
   "outputs": [
    {
     "data": {
      "text/plain": [
       "{'name': 'BlogSite',\n",
       " 'description': 'Lista de blog posts de um site',\n",
       " 'parameters': {'type': 'object',\n",
       "  'properties': {'posts': {'description': 'Lista de posts de blog do site',\n",
       "    'type': 'array',\n",
       "    'items': {'description': 'Informações sobre um post de blog',\n",
       "     'type': 'object',\n",
       "     'properties': {'titulo': {'description': 'O título do post de blog',\n",
       "       'type': 'string'},\n",
       "      'autor': {'description': 'O autor do post de blog', 'type': 'string'},\n",
       "      'data': {'description': 'A data de publicação do post de blog',\n",
       "       'type': 'string'}},\n",
       "     'required': ['titulo', 'autor', 'data']}}},\n",
       "  'required': ['posts']}}"
      ]
     },
     "execution_count": 11,
     "metadata": {},
     "output_type": "execute_result"
    }
   ],
   "source": [
    "from langchain.pydantic_v1 import BaseModel, Field\n",
    "from typing import List\n",
    "from langchain_core.utils.function_calling import convert_to_openai_function\n",
    "\n",
    "class BlogPost(BaseModel):\n",
    "    '''Informações sobre um post de blog'''\n",
    "    titulo: str = Field(description='O título do post de blog')\n",
    "    autor: str = Field(description='O autor do post de blog')\n",
    "    data: str = Field(description='A data de publicação do post de blog')\n",
    "\n",
    "class BlogSite(BaseModel):\n",
    "    '''Lista de blog posts de um site'''\n",
    "    posts: List[BlogPost] = Field(description='Lista de posts de blog do site')\n",
    "\n",
    "tool_blog = convert_to_openai_function(BlogSite)\n",
    "tool_blog"
   ]
  },
  {
   "cell_type": "code",
   "execution_count": 12,
   "metadata": {},
   "outputs": [],
   "source": [
    "from langchain.output_parsers.openai_functions import JsonKeyOutputFunctionsParser\n",
    "from langchain.prompts import ChatPromptTemplate\n",
    "from langchain_openai import ChatOpenAI\n",
    "\n",
    "prompt = ChatPromptTemplate.from_messages([\n",
    "    ('system', 'Extraia da página todos os posts de blog com autor e data de publicação'),\n",
    "    ('user', '{input}')\n",
    "])\n",
    "chat = ChatOpenAI()\n",
    "chain = (prompt \n",
    "         | chat.bind(functions=[tool_blog], function_call={'name': 'BlogSite'})\n",
    "         | JsonKeyOutputFunctionsParser(key_name='posts'))\n"
   ]
  },
  {
   "cell_type": "code",
   "execution_count": 13,
   "metadata": {},
   "outputs": [
    {
     "data": {
      "text/plain": [
       "[{'titulo': 'The Future of Artificial Intelligence: 5 Predictions for the Next Decade',\n",
       "  'autor': 'John Smith',\n",
       "  'data': '2021-09-15'},\n",
       " {'titulo': 'Machine Learning in Healthcare: Transforming the Industry',\n",
       "  'autor': 'Emily Brown',\n",
       "  'data': '2021-08-30'},\n",
       " {'titulo': 'Ethical Implications of AI in Autonomous Vehicles',\n",
       "  'autor': 'David Johnson',\n",
       "  'data': '2021-07-20'}]"
      ]
     },
     "execution_count": 13,
     "metadata": {},
     "output_type": "execute_result"
    }
   ],
   "source": [
    "chain.invoke({'input': page})"
   ]
  }
 ],
 "metadata": {
  "kernelspec": {
   "display_name": "Python 3",
   "language": "python",
   "name": "python3"
  },
  "language_info": {
   "codemirror_mode": {
    "name": "ipython",
    "version": 3
   },
   "file_extension": ".py",
   "mimetype": "text/x-python",
   "name": "python",
   "nbconvert_exporter": "python",
   "pygments_lexer": "ipython3",
   "version": "3.12.6"
  }
 },
 "nbformat": 4,
 "nbformat_minor": 2
}

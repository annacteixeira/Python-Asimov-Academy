{
 "cells": [
  {
   "cell_type": "markdown",
   "metadata": {},
   "source": [
    "# RAG - Conversando com os seus dados"
   ]
  },
  {
   "cell_type": "code",
   "execution_count": 4,
   "metadata": {},
   "outputs": [
    {
     "name": "stderr",
     "output_type": "stream",
     "text": [
      "C:\\Users\\annaf\\AppData\\Local\\Temp\\ipykernel_8532\\1267886439.py:6: LangChainDeprecationWarning: The class `OpenAI` was deprecated in LangChain 0.0.10 and will be removed in 1.0. An updated version of the class exists in the :class:`~langchain-openai package and should be used instead. To use it run `pip install -U :class:`~langchain-openai` and import as `from :class:`~langchain_openai import OpenAI``.\n",
      "  llm = OpenAI(model='gpt-3.5-turbo-instruct')\n"
     ]
    }
   ],
   "source": [
    "from dotenv import load_dotenv\n",
    "load_dotenv()\n",
    "\n",
    "from langchain.llms import OpenAI\n",
    "\n",
    "llm = OpenAI(model='gpt-3.5-turbo-instruct')"
   ]
  },
  {
   "cell_type": "code",
   "execution_count": 5,
   "metadata": {},
   "outputs": [],
   "source": [
    "from langchain_openai import OpenAIEmbeddings\n",
    "from langchain.vectorstores import Chroma\n",
    "\n",
    "from langchain_community.document_loaders.pdf import PyPDFLoader\n",
    "from langchain_text_splitters import RecursiveCharacterTextSplitter"
   ]
  },
  {
   "cell_type": "code",
   "execution_count": 6,
   "metadata": {},
   "outputs": [],
   "source": [
    "caminhos = [\n",
    "    'assets/Explorando o Universo das IAs com Hugging Face.pdf',\n",
    "    'assets/Explorando a API da OpenAI.pdf'\n",
    "]\n",
    "\n",
    "paginas = []\n",
    "\n",
    "for caminho in caminhos:\n",
    "    loader = PyPDFLoader(caminho)\n",
    "    paginas.extend(loader.load())\n",
    "    \n",
    "recur_split = RecursiveCharacterTextSplitter(\n",
    "    chunk_size=500,\n",
    "    chunk_overlap=50,\n",
    "    separators=['\\n\\n', '\\n', '.', ' ', '']\n",
    ")\n",
    "\n",
    "documents = recur_split.split_documents(paginas)\n",
    "\n",
    "for i, doc in enumerate(documents):\n",
    "    doc.metadata['source'] = doc.metadata['source'].replace('assets/', '')\n",
    "    doc.metadata['doc_id'] = i"
   ]
  },
  {
   "cell_type": "code",
   "execution_count": 7,
   "metadata": {},
   "outputs": [],
   "source": [
    "diretorio = 'docs/chat_retrieval'\n",
    "\n",
    "embeddings_model = OpenAIEmbeddings()\n",
    "\n",
    "vectorstore = Chroma.from_documents(\n",
    "    documents=documents,\n",
    "    embedding=embeddings_model,\n",
    "    persist_directory=diretorio\n",
    ")"
   ]
  },
  {
   "cell_type": "markdown",
   "metadata": {},
   "source": [
    "## Criando estrutura de conversa"
   ]
  },
  {
   "cell_type": "code",
   "execution_count": 8,
   "metadata": {},
   "outputs": [],
   "source": [
    "from langchain_openai.chat_models import ChatOpenAI\n",
    "\n",
    "chat = ChatOpenAI(model='gpt-3.5-turbo-0125')"
   ]
  },
  {
   "cell_type": "code",
   "execution_count": 9,
   "metadata": {},
   "outputs": [],
   "source": [
    "from langchain.chains.retrieval_qa.base import RetrievalQA\n",
    "\n",
    "chat_chain = RetrievalQA.from_chain_type(\n",
    "    llm=chat,\n",
    "    retriever=vectorstore.as_retriever(search_type='mmr')\n",
    ")"
   ]
  },
  {
   "cell_type": "code",
   "execution_count": 10,
   "metadata": {},
   "outputs": [
    {
     "data": {
      "text/plain": [
       "{'query': 'O que é Hugging Face e como faço para acessá-lo?',\n",
       " 'result': 'Hugging Face é uma empresa que começou em 2017 na França, inicialmente focada no desenvolvimento de Chatbots. Atualmente, a empresa oferece uma plataforma que disponibiliza modelos de Inteligência Artificial, conjuntos de dados e aplicativos (chamados de \"Spaces\"). Para acessar a plataforma do Hugging Face, é necessário criar uma conta no site da empresa e, em seguida, criar um token de acesso para autenticação. A partir daí, é possível explorar e utilizar os modelos e recursos disponíveis na plataforma.'}"
      ]
     },
     "execution_count": 10,
     "metadata": {},
     "output_type": "execute_result"
    }
   ],
   "source": [
    "pergunta = 'O que é Hugging Face e como faço para acessá-lo?'\n",
    "\n",
    "chat_chain.invoke({'query':pergunta})"
   ]
  },
  {
   "cell_type": "markdown",
   "metadata": {},
   "source": [
    "### Modificando o prompt da chain"
   ]
  },
  {
   "cell_type": "code",
   "execution_count": 11,
   "metadata": {},
   "outputs": [],
   "source": [
    "from langchain.prompts import PromptTemplate\n",
    "\n",
    "chain_prompt = PromptTemplate.from_template(\n",
    "\"\"\"Utilize o contexto fornceido para responder a pergunta ao final. \n",
    "Se você não sabe a resposta, apenas diga que não sabe e não tente inventar a resposta.\n",
    "Utilize três frases no máximo, mantenha a resposta concisa.\n",
    "\n",
    "Contexto: {context}\n",
    "\n",
    "Pergunta: {question}\n",
    "\n",
    "Resposta:\n",
    "\"\"\"\n",
    ")\n",
    "\n",
    "chat_chain = RetrievalQA.from_chain_type(\n",
    "    llm=chat,\n",
    "    retriever=vectorstore.as_retriever(search_type='mmr'),\n",
    "    chain_type_kwargs={'prompt':chain_prompt},\n",
    "    return_source_documents = True\n",
    ")"
   ]
  },
  {
   "cell_type": "code",
   "execution_count": 13,
   "metadata": {},
   "outputs": [
    {
     "name": "stdout",
     "output_type": "stream",
     "text": [
      "Hugging Face é uma empresa francesa que desenvolveu chatbots em 2017. Para acessá-lo, é necessário criar uma conta e solicitar autorização para uso de modelos restritos.\n"
     ]
    }
   ],
   "source": [
    "pergunta = 'O que é Hugging Face e como faço para acessá-lo?'\n",
    "\n",
    "resposta = chat_chain.invoke({'query':pergunta})\n",
    "print(resposta['result'])"
   ]
  },
  {
   "cell_type": "code",
   "execution_count": 14,
   "metadata": {},
   "outputs": [
    {
     "name": "stdout",
     "output_type": "stream",
     "text": [
      "[Document(metadata={'doc_id': 24, 'page': 5, 'source': 'Explorando o Universo das IAs com Hugging Face.pdf'}, page_content='Explorando o Universo das IAs com Hugging Face\\n01. O que é Hugging Face?\\nBem-vindos ao curso de Hugging Face da Asimov Academy!\\nNeste curso, vamos explorar as principais utilidades da plataforma de IAHugging Face. Aprenderemos\\ncomo utilizar a plataforma ao máximo, e como incorporar as bibliotecas de Python do Hugging Face\\naos nossos scripts de Python.\\nAfinal, o que é Hugging Face?\\nA Hugging Face é uma empresa que iniciou em 2017 na França, com o desenvolvimento de Chatbots.'), Document(metadata={'doc_id': 28, 'page': 6, 'source': 'Explorando o Universo das IAs com Hugging Face.pdf'}, page_content='O Hugging Face cobra apenas se você quiser utilizar a infraestrutura deles para hospedar algum\\nprojeto privado pessoal ou da sua empresa.\\nComo usaremos o Hugging Face?\\nNeste curso, vamos explorar todo o potencial que existe na plataforma do Hugging Face. Isso inclui\\nentender como acessar os modelos, conjuntos de dados, e aplicativos (os chamados “Spaces”) que\\nestão na plataforma. (Note que vamos usar bastante o termo “modelos” , que é um pouco mais técnico\\nque IAs.)'), Document(metadata={'doc_id': 263, 'page': 88, 'source': 'Explorando o Universo das IAs com Hugging Face.pdf'}, page_content='Face.\\nÉ claro que o Hugging Face não acaba aqui. Não tivemos tempo de explorar boa parte das tarefas que\\nexistem no Hugging Face. Dito isso, agora sabemoscomo fazer este processo: conseguimos procurar por\\numa tarefa nova, encontrar o código necessário para baixá-lo (seja pela bibliotecatransformers\\nou alguma outra), avaliar se conseguiremos rodar o modelo localmente, e entender como passar\\nargumentos e obter resultados a partir dele.'), Document(metadata={'doc_id': 149, 'page': 44, 'source': 'Explorando o Universo das IAs com Hugging Face.pdf'}, page_content='Explorando o Universo das IAs com Hugging Face\\nAutenticando com o token do Hugging Face\\nPara usar modelos restritos, vamos precisar criar uma conta no Hugging Face e pedir por autorização\\nde uso do modelo. Em seguida, precisamos criar um token de acesso (que não tem nada a ver com os\\ntokens dos tokenizers), para que nosso código entenda qual usuário está tentando usar o modelo\\ne nos dê acesso a ele.\\nCriando a conta')]\n"
     ]
    }
   ],
   "source": [
    "print(resposta['source_documents'])"
   ]
  },
  {
   "cell_type": "markdown",
   "metadata": {},
   "source": [
    "## Outros tipos de chains"
   ]
  },
  {
   "cell_type": "markdown",
   "metadata": {},
   "source": [
    "### Stuff"
   ]
  },
  {
   "cell_type": "code",
   "execution_count": 15,
   "metadata": {},
   "outputs": [
    {
     "name": "stdout",
     "output_type": "stream",
     "text": [
      "Hugging Face é uma empresa que iniciou em 2017 na França, inicialmente com o desenvolvimento de Chatbots. Atualmente, a empresa oferece uma plataforma de IA que disponibiliza modelos, conjuntos de dados e aplicativos chamados de \"Spaces\". Para acessar o Hugging Face, é necessário criar uma conta na plataforma e, para usar modelos restritos, é preciso solicitar autorização e criar um token de acesso.\n"
     ]
    }
   ],
   "source": [
    "chat_chain = RetrievalQA.from_chain_type(\n",
    "    llm=chat,\n",
    "    retriever=vectorstore.as_retriever(search_type='mmr'),\n",
    "    chain_type='stuff'\n",
    ")\n",
    "\n",
    "pergunta = 'O que é Hugging Face e como faço para acessá-lo?'\n",
    "\n",
    "resposta = chat_chain.invoke({'query':pergunta})\n",
    "print(resposta['result'])"
   ]
  },
  {
   "cell_type": "markdown",
   "metadata": {},
   "source": [
    "### Map Reduce"
   ]
  },
  {
   "cell_type": "code",
   "execution_count": 16,
   "metadata": {},
   "outputs": [
    {
     "name": "stdout",
     "output_type": "stream",
     "text": [
      "Hugging Face é uma plataforma que oferece recursos e ferramentas para trabalhar com modelos de processamento de linguagem natural (NLP), como bibliotecas, modelos pré-treinados, entre outros. Para acessar o Hugging Face, você pode visitar o site oficial da empresa em https://huggingface.co/. Lá, você encontrará uma variedade de recursos, tutoriais e documentação para ajudá-lo a começar a trabalhar com NLP usando o Hugging Face. Além disso, é possível criar uma conta na plataforma para utilizar seus recursos, solicitar autorização para modelos restritos e gerar um token de acesso para utilizar os modelos disponíveis.\n"
     ]
    }
   ],
   "source": [
    "chat_chain = RetrievalQA.from_chain_type(\n",
    "    llm=chat,\n",
    "    retriever=vectorstore.as_retriever(search_type='mmr'),\n",
    "    chain_type='map_reduce'\n",
    ")\n",
    "\n",
    "pergunta = 'O que é Hugging Face e como faço para acessá-lo?'\n",
    "\n",
    "resposta = chat_chain.invoke({'query':pergunta})\n",
    "print(resposta['result'])"
   ]
  },
  {
   "cell_type": "markdown",
   "metadata": {},
   "source": [
    "### Refine"
   ]
  },
  {
   "cell_type": "code",
   "execution_count": 17,
   "metadata": {},
   "outputs": [
    {
     "name": "stdout",
     "output_type": "stream",
     "text": [
      "Hugging Face é uma empresa que oferece uma plataforma de IA com modelos de linguagem pré-treinados, ferramentas e bibliotecas de Python. Para acessar a plataforma Hugging Face, você pode visitar o site oficial da empresa em https://huggingface.co/ e criar uma conta. Ao criar a conta, você poderá ter acesso a modelos de linguagem pré-treinados e outras funcionalidades oferecidas pela plataforma. Se você deseja usar modelos restritos, será necessário solicitar autorização de uso e criar um token de acesso, que permite que seu código entenda qual usuário está tentando usar o modelo e conceda acesso a ele. Assim, você poderá explorar todo o potencial da plataforma Hugging Face e utilizar seus recursos para desenvolver projetos de IA.\n"
     ]
    }
   ],
   "source": [
    "chat_chain = RetrievalQA.from_chain_type(\n",
    "    llm=chat,\n",
    "    retriever=vectorstore.as_retriever(search_type='mmr'),\n",
    "    chain_type='refine'\n",
    ")\n",
    "\n",
    "pergunta = 'O que é Hugging Face e como faço para acessá-lo?'\n",
    "\n",
    "resposta = chat_chain.invoke({'query':pergunta})\n",
    "print(resposta['result'])"
   ]
  }
 ],
 "metadata": {
  "kernelspec": {
   "display_name": "Python 3",
   "language": "python",
   "name": "python3"
  },
  "language_info": {
   "codemirror_mode": {
    "name": "ipython",
    "version": 3
   },
   "file_extension": ".py",
   "mimetype": "text/x-python",
   "name": "python",
   "nbconvert_exporter": "python",
   "pygments_lexer": "ipython3",
   "version": "3.12.6"
  }
 },
 "nbformat": 4,
 "nbformat_minor": 2
}

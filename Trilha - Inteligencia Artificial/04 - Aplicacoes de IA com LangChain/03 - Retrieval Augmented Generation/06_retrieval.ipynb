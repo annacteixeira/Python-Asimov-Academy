{
 "cells": [
  {
   "cell_type": "markdown",
   "metadata": {},
   "source": [
    "# Retrieval"
   ]
  },
  {
   "cell_type": "code",
   "execution_count": 1,
   "metadata": {},
   "outputs": [
    {
     "name": "stderr",
     "output_type": "stream",
     "text": [
      "C:\\Users\\annaf\\AppData\\Local\\Temp\\ipykernel_7788\\1267886439.py:6: LangChainDeprecationWarning: The class `OpenAI` was deprecated in LangChain 0.0.10 and will be removed in 1.0. An updated version of the class exists in the :class:`~langchain-openai package and should be used instead. To use it run `pip install -U :class:`~langchain-openai` and import as `from :class:`~langchain_openai import OpenAI``.\n",
      "  llm = OpenAI(model='gpt-3.5-turbo-instruct')\n"
     ]
    }
   ],
   "source": [
    "from dotenv import load_dotenv\n",
    "load_dotenv()\n",
    "\n",
    "from langchain.llms import OpenAI\n",
    "\n",
    "llm = OpenAI(model='gpt-3.5-turbo-instruct')"
   ]
  },
  {
   "cell_type": "code",
   "execution_count": 2,
   "metadata": {},
   "outputs": [],
   "source": [
    "from langchain_community.document_loaders.pdf import PyPDFLoader\n",
    "from langchain_text_splitters import RecursiveCharacterTextSplitter\n",
    "\n",
    "caminhos = [\n",
    "    'assets/Explorando o Universo das IAs com Hugging Face.pdf',\n",
    "    'assets/Explorando a API da OpenAI.pdf',\n",
    "    'assets/Explorando a API da OpenAI.pdf'\n",
    "]\n",
    "\n",
    "paginas = []\n",
    "\n",
    "for caminho in caminhos:\n",
    "    loader = PyPDFLoader(caminho)\n",
    "    paginas.extend(loader.load())\n",
    "    \n",
    "recur_split = RecursiveCharacterTextSplitter(\n",
    "    chunk_size=500,\n",
    "    chunk_overlap=50,\n",
    "    separators=['\\n\\n', '\\n', '.', ' ', '']\n",
    ")\n",
    "\n",
    "documents = recur_split.split_documents(paginas)"
   ]
  },
  {
   "cell_type": "markdown",
   "metadata": {},
   "source": [
    "## Modificando metadata"
   ]
  },
  {
   "cell_type": "code",
   "execution_count": 3,
   "metadata": {},
   "outputs": [],
   "source": [
    "for i, doc in enumerate(documents):\n",
    "    doc.metadata['source'] = doc.metadata['source'].replace('assets/', '')\n",
    "    doc.metadata['doc_id'] = i"
   ]
  },
  {
   "cell_type": "code",
   "execution_count": 4,
   "metadata": {},
   "outputs": [
    {
     "data": {
      "text/plain": [
       "{'source': 'Explorando o Universo das IAs com Hugging Face.pdf',\n",
       " 'page': 0,\n",
       " 'doc_id': 0}"
      ]
     },
     "execution_count": 4,
     "metadata": {},
     "output_type": "execute_result"
    }
   ],
   "source": [
    "documents[0].metadata"
   ]
  },
  {
   "cell_type": "code",
   "execution_count": 5,
   "metadata": {},
   "outputs": [],
   "source": [
    "# __import__('pysqlite3)\n",
    "# import sys\n",
    "# sys.modules['sqlite3] = sys.modules.pop('pysqlite3')\n",
    "\n",
    "from langchain_openai import OpenAIEmbeddings\n",
    "from langchain.vectorstores import Chroma\n",
    "\n",
    "embeddings_model = OpenAIEmbeddings()"
   ]
  },
  {
   "cell_type": "markdown",
   "metadata": {},
   "source": [
    "### Criando VectorStore"
   ]
  },
  {
   "cell_type": "code",
   "execution_count": 6,
   "metadata": {},
   "outputs": [],
   "source": [
    "diretorio = 'docs/chroma_retrieval'\n",
    "\n",
    "vectorstore = Chroma.from_documents(\n",
    "    documents=documents,\n",
    "    embedding=embeddings_model,\n",
    "    persist_directory=diretorio\n",
    ")"
   ]
  },
  {
   "cell_type": "markdown",
   "metadata": {},
   "source": [
    "### Semantic Search | Busca Semântica"
   ]
  },
  {
   "cell_type": "markdown",
   "metadata": {},
   "source": [
    "### Limitações do Semantic Search\n",
    "\n",
    "#### Trechos com alta similaridade e pouca informação adicional"
   ]
  },
  {
   "cell_type": "code",
   "execution_count": 7,
   "metadata": {},
   "outputs": [
    {
     "name": "stdout",
     "output_type": "stream",
     "text": [
      "Explorando a API da OpenAI\n",
      "01. Bem-vindos ao curso Explorando a API da OpenAI\n",
      "Olá e bem-vindos ao nosso curso “Explorando a API da OpenAI”! Estou super animado por ter vocês\n",
      "aqui e mal posso esperar para explorarmos juntos esse universo fascinante da programação e da\n",
      "inteligência artificial.\n",
      "Vocês já devem ter percebido que a IA está mudando o jogo em muitos campos, certo? É incrível como\n",
      "ela está transformando a maneira como lidamos com informações e realiza tarefas que antes pareciam\n",
      "\n",
      "========== {'doc_id': 283, 'page': 4, 'source': 'Explorando a API da OpenAI.pdf'}\n",
      "\n",
      "\n",
      "Explorando a API da OpenAI\n",
      "01. Bem-vindos ao curso Explorando a API da OpenAI\n",
      "Olá e bem-vindos ao nosso curso “Explorando a API da OpenAI”! Estou super animado por ter vocês\n",
      "aqui e mal posso esperar para explorarmos juntos esse universo fascinante da programação e da\n",
      "inteligência artificial.\n",
      "Vocês já devem ter percebido que a IA está mudando o jogo em muitos campos, certo? É incrível como\n",
      "ela está transformando a maneira como lidamos com informações e realiza tarefas que antes pareciam\n",
      "\n",
      "========== {'doc_id': 545, 'page': 4, 'source': 'Explorando a API da OpenAI.pdf'}\n",
      "\n",
      "\n",
      "Explorando a API da OpenAI\n",
      "01. Bem-vindos ao curso Explorando a API da OpenAI\n",
      "Olá e bem-vindos ao nosso curso “Explorando a API da OpenAI”! Estou super animado por ter vocês\n",
      "aqui e mal posso esperar para explorarmos juntos esse universo fascinante da programação e da\n",
      "inteligência artificial.\n",
      "Vocês já devem ter percebido que a IA está mudando o jogo em muitos campos, certo? É incrível como\n",
      "ela está transformando a maneira como lidamos com informações e realiza tarefas que antes pareciam\n",
      "\n",
      "========== {'doc_id': 283, 'page': 4, 'source': 'Explorando a API da OpenAI.pdf'}\n",
      "\n",
      "\n"
     ]
    }
   ],
   "source": [
    "pergunta = 'O que é a OpenAI?'\n",
    "\n",
    "docs = vectorstore.similarity_search(pergunta, k=3)\n",
    "\n",
    "for doc in docs:\n",
    "    print(f'{doc.page_content}\\n')\n",
    "    print(f'========== {doc.metadata}\\n\\n')"
   ]
  },
  {
   "cell_type": "markdown",
   "metadata": {},
   "source": [
    "#### Busca em arquivos específicos não funciona corretamente"
   ]
  },
  {
   "cell_type": "code",
   "execution_count": 8,
   "metadata": {},
   "outputs": [
    {
     "name": "stdout",
     "output_type": "stream",
     "text": [
      "Explorando o Universo das IAs com Hugging Face\n",
      "06. Modelos de conversação e geração de texto (chatbots)\n",
      "Vamos aprender agora a usar modelos de conversação, que funcionam de forma parecida com chatbots\n",
      "como ChatGPT . Na realidade, estes modelos estão classificados na tarefa de geração de texto (text\n",
      "generation) no Hugging Face:\n",
      "Figure 16: Página principal da tarefatext-generation do Hugging Face.\n",
      "Vamos utilizar o modelo Felladrin/Llama-68M-Chat-v1, disponível no link a seguir:\n",
      "\n",
      "========== {'doc_id': 86, 'page': 29, 'source': 'Explorando o Universo das IAs com Hugging Face.pdf'}\n",
      "\n",
      "\n",
      "Explorando o Universo das IAs com Hugging Face\n",
      "06. Modelos de conversação e geração de texto (chatbots)\n",
      "Vamos aprender agora a usar modelos de conversação, que funcionam de forma parecida com chatbots\n",
      "como ChatGPT . Na realidade, estes modelos estão classificados na tarefa de geração de texto (text\n",
      "generation) no Hugging Face:\n",
      "Figure 16: Página principal da tarefatext-generation do Hugging Face.\n",
      "Vamos utilizar o modelo Felladrin/Llama-68M-Chat-v1, disponível no link a seguir:\n",
      "\n",
      "========== {'doc_id': 86, 'page': 29, 'source': 'Explorando o Universo das IAs com Hugging Face.pdf'}\n",
      "\n",
      "\n",
      "Explorando o Universo das IAs com Hugging Face\n",
      "06. Modelos de conversação e geração de texto (chatbots)\n",
      "Vamos aprender agora a usar modelos de conversação, que funcionam de forma parecida com chatbots\n",
      "como ChatGPT . Na realidade, estes modelos estão classificados na tarefa de geração de texto (text\n",
      "generation) no Hugging Face:\n",
      "Figure 16: Página principal da tarefatext-generation do Hugging Face.\n",
      "Vamos utilizar o modelo Felladrin/Llama-68M-Chat-v1, disponível no link a seguir:\n",
      "\n",
      "========== {'doc_id': 86, 'page': 29, 'source': 'Explorando o Universo das IAs com Hugging Face.pdf'}\n",
      "\n",
      "\n"
     ]
    }
   ],
   "source": [
    "pergunta = 'O que a apostila de Hugging Face fala sobre a OpenAI e o ChatGPT??'\n",
    "\n",
    "docs = vectorstore.similarity_search(pergunta, k=3)\n",
    "\n",
    "for doc in docs:\n",
    "    print(f'{doc.page_content}\\n')\n",
    "    print(f'========== {doc.metadata}\\n\\n')"
   ]
  },
  {
   "cell_type": "markdown",
   "metadata": {},
   "source": [
    "### MMR"
   ]
  },
  {
   "cell_type": "code",
   "execution_count": 9,
   "metadata": {},
   "outputs": [
    {
     "name": "stdout",
     "output_type": "stream",
     "text": [
      "Explorando a API da OpenAI\n",
      "01. Bem-vindos ao curso Explorando a API da OpenAI\n",
      "Olá e bem-vindos ao nosso curso “Explorando a API da OpenAI”! Estou super animado por ter vocês\n",
      "aqui e mal posso esperar para explorarmos juntos esse universo fascinante da programação e da\n",
      "inteligência artificial.\n",
      "Vocês já devem ter percebido que a IA está mudando o jogo em muitos campos, certo? É incrível como\n",
      "ela está transformando a maneira como lidamos com informações e realiza tarefas que antes pareciam\n",
      "\n",
      "========== {'doc_id': 283, 'page': 4, 'source': 'Explorando a API da OpenAI.pdf'}\n",
      "\n",
      "\n",
      "Explorando a API da OpenAI\n",
      "01. Bem-vindos ao curso Explorando a API da OpenAI\n",
      "Olá e bem-vindos ao nosso curso “Explorando a API da OpenAI”! Estou super animado por ter vocês\n",
      "aqui e mal posso esperar para explorarmos juntos esse universo fascinante da programação e da\n",
      "inteligência artificial.\n",
      "Vocês já devem ter percebido que a IA está mudando o jogo em muitos campos, certo? É incrível como\n",
      "ela está transformando a maneira como lidamos com informações e realiza tarefas que antes pareciam\n",
      "\n",
      "========== {'doc_id': 545, 'page': 4, 'source': 'Explorando a API da OpenAI.pdf'}\n",
      "\n",
      "\n",
      "Explorando a API da OpenAI\n",
      "Conteúdo\n",
      "01. Bem-vindos ao curso Explorando a API da OpenAI 4\n",
      "02. Explorando a documentação da API 5\n",
      "O que é uma API? . . . . . . . . . . . . . . . . . . . . . . . . . . . . . . . . . . . . . . . . . 5\n",
      "A OpenAI . . . . . . . . . . . . . . . . . . . . . . . . . . . . . . . . . . . . . . . . . . . . . 6\n",
      "Acessando a documentação da API . . . . . . . . . . . . . . . . . . . . . . . . . . . . . . . 6\n",
      "\n",
      "========== {'doc_id': 267, 'page': 1, 'source': 'Explorando a API da OpenAI.pdf'}\n",
      "\n",
      "\n"
     ]
    }
   ],
   "source": [
    "pergunta = 'O que é a OpenAI?'\n",
    "\n",
    "docs = vectorstore.max_marginal_relevance_search(pergunta, k=3, fetch_k=10)\n",
    "\n",
    "for doc in docs:\n",
    "    print(f'{doc.page_content}\\n')\n",
    "    print(f'========== {doc.metadata}\\n\\n')"
   ]
  },
  {
   "cell_type": "markdown",
   "metadata": {},
   "source": [
    "### Filtragem"
   ]
  },
  {
   "cell_type": "markdown",
   "metadata": {},
   "source": [
    "#### Filtrando para buscar em um arquivo específico"
   ]
  },
  {
   "cell_type": "code",
   "execution_count": 10,
   "metadata": {},
   "outputs": [
    {
     "name": "stdout",
     "output_type": "stream",
     "text": [
      "Explorando o Universo das IAs com Hugging Face\n",
      "06. Modelos de conversação e geração de texto (chatbots)\n",
      "Vamos aprender agora a usar modelos de conversação, que funcionam de forma parecida com chatbots\n",
      "como ChatGPT . Na realidade, estes modelos estão classificados na tarefa de geração de texto (text\n",
      "generation) no Hugging Face:\n",
      "Figure 16: Página principal da tarefatext-generation do Hugging Face.\n",
      "Vamos utilizar o modelo Felladrin/Llama-68M-Chat-v1, disponível no link a seguir:\n",
      "==========={'doc_id': 86, 'page': 29, 'source': 'Explorando o Universo das IAs com Hugging Face.pdf'}\n",
      "\n",
      "\n",
      "Explorando o Universo das IAs com Hugging Face\n",
      "06. Modelos de conversação e geração de texto (chatbots)\n",
      "Vamos aprender agora a usar modelos de conversação, que funcionam de forma parecida com chatbots\n",
      "como ChatGPT . Na realidade, estes modelos estão classificados na tarefa de geração de texto (text\n",
      "generation) no Hugging Face:\n",
      "Figure 16: Página principal da tarefatext-generation do Hugging Face.\n",
      "Vamos utilizar o modelo Felladrin/Llama-68M-Chat-v1, disponível no link a seguir:\n",
      "==========={'doc_id': 86, 'page': 29, 'source': 'Explorando o Universo das IAs com Hugging Face.pdf'}\n",
      "\n",
      "\n",
      "Explorando o Universo das IAs com Hugging Face\n",
      "06. Modelos de conversação e geração de texto (chatbots)\n",
      "Vamos aprender agora a usar modelos de conversação, que funcionam de forma parecida com chatbots\n",
      "como ChatGPT . Na realidade, estes modelos estão classificados na tarefa de geração de texto (text\n",
      "generation) no Hugging Face:\n",
      "Figure 16: Página principal da tarefatext-generation do Hugging Face.\n",
      "Vamos utilizar o modelo Felladrin/Llama-68M-Chat-v1, disponível no link a seguir:\n",
      "==========={'doc_id': 86, 'page': 29, 'source': 'Explorando o Universo das IAs com Hugging Face.pdf'}\n",
      "\n",
      "\n"
     ]
    }
   ],
   "source": [
    "pergunta = 'O que a apostila de Hugging Face fala sobre a OpenAI e o ChatGPT?'\n",
    "\n",
    "docs = vectorstore.similarity_search(\n",
    "    pergunta, \n",
    "    k=3,\n",
    "    filter={'source': {'$in': ['Explorando o Universo das IAs com Hugging Face.pdf']}})\n",
    "for doc in docs:\n",
    "    print(doc.page_content)\n",
    "    print(f'==========={doc.metadata}\\n\\n')"
   ]
  },
  {
   "cell_type": "markdown",
   "metadata": {},
   "source": [
    "#### Filtrando para buscar em uma página específica"
   ]
  },
  {
   "cell_type": "code",
   "execution_count": 11,
   "metadata": {},
   "outputs": [
    {
     "name": "stdout",
     "output_type": "stream",
     "text": [
      "Explorando o Universo das IAs com Hugging Face\n",
      "Nas próximas aulas, vamos aprender aos poucos a usar toda a informação contida nesta plataforma!\n",
      "Asimov Academy 13\n",
      "==========={'doc_id': 42, 'page': 13, 'source': 'Explorando o Universo das IAs com Hugging Face.pdf'}\n",
      "\n",
      "\n",
      "Explorando o Universo das IAs com Hugging Face\n",
      "Nas próximas aulas, vamos aprender aos poucos a usar toda a informação contida nesta plataforma!\n",
      "Asimov Academy 13\n",
      "==========={'doc_id': 42, 'page': 13, 'source': 'Explorando o Universo das IAs com Hugging Face.pdf'}\n",
      "\n",
      "\n",
      "Explorando o Universo das IAs com Hugging Face\n",
      "Nas próximas aulas, vamos aprender aos poucos a usar toda a informação contida nesta plataforma!\n",
      "Asimov Academy 13\n",
      "==========={'doc_id': 42, 'page': 13, 'source': 'Explorando o Universo das IAs com Hugging Face.pdf'}\n",
      "\n",
      "\n"
     ]
    }
   ],
   "source": [
    "pergunta = 'O que a apostila de Hugging Face fala sobre a OpenAI e o ChatGPT?'\n",
    "\n",
    "docs = vectorstore.similarity_search(\n",
    "    pergunta, \n",
    "    k=3,\n",
    "    filter={'$and':\n",
    "            [{'source': {'$in': ['Explorando o Universo das IAs com Hugging Face.pdf']}},\n",
    "            {'page': {'$in': [10, 11, 12, 13]}}],\n",
    "            })\n",
    "for doc in docs:\n",
    "    print(doc.page_content)\n",
    "    print(f'==========={doc.metadata}\\n\\n')"
   ]
  },
  {
   "cell_type": "markdown",
   "metadata": {},
   "source": [
    "### LLM Aided Retrieval"
   ]
  },
  {
   "cell_type": "code",
   "execution_count": 12,
   "metadata": {},
   "outputs": [],
   "source": [
    "from langchain_openai.llms import OpenAI\n",
    "from langchain.retrievers.self_query.base import SelfQueryRetriever\n",
    "from langchain.chains.query_constructor.schema import AttributeInfo\n",
    "import lark"
   ]
  },
  {
   "cell_type": "code",
   "execution_count": 13,
   "metadata": {},
   "outputs": [],
   "source": [
    "metadata_info = [\n",
    "    AttributeInfo(\n",
    "        name='source',\n",
    "        description='Nome da apostila de onde o texto original foi retirado. Deve ter o valor de: \\\n",
    "            Explorando o Universo das IAs com Hugging Face.pdf ou Explorando a API da OpenAI.pdf',\n",
    "        type='string'\n",
    "    ),\n",
    "    AttributeInfo(\n",
    "        name='page',\n",
    "        description='A página da apostila de onde o texto se origina',\n",
    "        type='integer'\n",
    "    ),\n",
    "\n",
    "]"
   ]
  },
  {
   "cell_type": "code",
   "execution_count": 15,
   "metadata": {},
   "outputs": [],
   "source": [
    "document_description = 'Apostilas de cursos'\n",
    "llm = OpenAI()\n",
    "retriever = SelfQueryRetriever.from_llm(\n",
    "    llm,\n",
    "    vectorstore,\n",
    "    document_description,\n",
    "    metadata_info,\n",
    "    verbose=True\n",
    ")"
   ]
  },
  {
   "cell_type": "code",
   "execution_count": 16,
   "metadata": {},
   "outputs": [
    {
     "name": "stderr",
     "output_type": "stream",
     "text": [
      "C:\\Users\\annaf\\AppData\\Local\\Temp\\ipykernel_7788\\493495280.py:3: LangChainDeprecationWarning: The method `BaseRetriever.get_relevant_documents` was deprecated in langchain-core 0.1.46 and will be removed in 1.0. Use :meth:`~invoke` instead.\n",
      "  docs = retriever.get_relevant_documents(pergunta)\n"
     ]
    },
    {
     "name": "stdout",
     "output_type": "stream",
     "text": [
      "“famosas” , como o ChatGPT , e construir assim um sistema robusto com diversas IAs para uma variedade\n",
      "de tarefas. O céu é o limite!\n",
      "Asimov Academy 88\n",
      "==========={'doc_id': 265, 'page': 88, 'source': 'Explorando o Universo das IAs com Hugging Face.pdf'}\n",
      "\n",
      "\n",
      "“famosas” , como o ChatGPT , e construir assim um sistema robusto com diversas IAs para uma variedade\n",
      "de tarefas. O céu é o limite!\n",
      "Asimov Academy 88\n",
      "==========={'doc_id': 265, 'page': 88, 'source': 'Explorando o Universo das IAs com Hugging Face.pdf'}\n",
      "\n",
      "\n",
      "“famosas” , como o ChatGPT , e construir assim um sistema robusto com diversas IAs para uma variedade\n",
      "de tarefas. O céu é o limite!\n",
      "Asimov Academy 88\n",
      "==========={'doc_id': 265, 'page': 88, 'source': 'Explorando o Universo das IAs com Hugging Face.pdf'}\n",
      "\n",
      "\n",
      "Explorando o Universo das IAs com Hugging Face\n",
      "06. Modelos de conversação e geração de texto (chatbots)\n",
      "Vamos aprender agora a usar modelos de conversação, que funcionam de forma parecida com chatbots\n",
      "como ChatGPT . Na realidade, estes modelos estão classificados na tarefa de geração de texto (text\n",
      "generation) no Hugging Face:\n",
      "Figure 16: Página principal da tarefatext-generation do Hugging Face.\n",
      "Vamos utilizar o modelo Felladrin/Llama-68M-Chat-v1, disponível no link a seguir:\n",
      "==========={'doc_id': 86, 'page': 29, 'source': 'Explorando o Universo das IAs com Hugging Face.pdf'}\n",
      "\n",
      "\n"
     ]
    }
   ],
   "source": [
    "pergunta = 'O que a apostila de Hugging Face fala sobre a OpenAI e o ChatGPT?'\n",
    "\n",
    "docs = retriever.get_relevant_documents(pergunta)\n",
    "for doc in docs:\n",
    "    print(doc.page_content)\n",
    "    print(f'==========={doc.metadata}\\n\\n')"
   ]
  },
  {
   "cell_type": "code",
   "execution_count": 18,
   "metadata": {},
   "outputs": [
    {
     "name": "stdout",
     "output_type": "stream",
     "text": [
      "Explorando a API da OpenAI\n",
      "Usos comuns\n",
      "Alguns casos de uso comuns nos quais o fine-tuning pode aprimorar os resultados incluem:\n",
      "• Definir o estilo, tom, formato ou outros aspectos qualitativos.\n",
      "• Aumentar a confiabilidade na geração de uma saída desejada.\n",
      "• Corrigir falhas ao seguir instruções complexas.\n",
      "• Lidar com muitos casos atípicos de maneiras específicas.\n",
      "• Aprender uma nova habilidade ou realizar uma tarefa difícil de articular em uma instrução.\n",
      "==========={'doc_id': 664, 'page': 44, 'source': 'Explorando a API da OpenAI.pdf'}\n",
      "\n",
      "\n",
      "Explorando a API da OpenAI\n",
      "Usos comuns\n",
      "Alguns casos de uso comuns nos quais o fine-tuning pode aprimorar os resultados incluem:\n",
      "• Definir o estilo, tom, formato ou outros aspectos qualitativos.\n",
      "• Aumentar a confiabilidade na geração de uma saída desejada.\n",
      "• Corrigir falhas ao seguir instruções complexas.\n",
      "• Lidar com muitos casos atípicos de maneiras específicas.\n",
      "• Aprender uma nova habilidade ou realizar uma tarefa difícil de articular em uma instrução.\n",
      "==========={'doc_id': 664, 'page': 44, 'source': 'Explorando a API da OpenAI.pdf'}\n",
      "\n",
      "\n",
      "Explorando a API da OpenAI\n",
      "Usos comuns\n",
      "Alguns casos de uso comuns nos quais o fine-tuning pode aprimorar os resultados incluem:\n",
      "• Definir o estilo, tom, formato ou outros aspectos qualitativos.\n",
      "• Aumentar a confiabilidade na geração de uma saída desejada.\n",
      "• Corrigir falhas ao seguir instruções complexas.\n",
      "• Lidar com muitos casos atípicos de maneiras específicas.\n",
      "• Aprender uma nova habilidade ou realizar uma tarefa difícil de articular em uma instrução.\n",
      "==========={'doc_id': 664, 'page': 44, 'source': 'Explorando a API da OpenAI.pdf'}\n",
      "\n",
      "\n",
      "Explorando a API da OpenAI\n",
      "Usos comuns\n",
      "Alguns casos de uso comuns nos quais o fine-tuning pode aprimorar os resultados incluem:\n",
      "• Definir o estilo, tom, formato ou outros aspectos qualitativos.\n",
      "• Aumentar a confiabilidade na geração de uma saída desejada.\n",
      "• Corrigir falhas ao seguir instruções complexas.\n",
      "• Lidar com muitos casos atípicos de maneiras específicas.\n",
      "• Aprender uma nova habilidade ou realizar uma tarefa difícil de articular em uma instrução.\n",
      "==========={'doc_id': 402, 'page': 44, 'source': 'Explorando a API da OpenAI.pdf'}\n",
      "\n",
      "\n"
     ]
    }
   ],
   "source": [
    "pergunta = 'Quais detalhes são descritos na página 44 da apostila Explorando a API da OpenAI?'\n",
    "\n",
    "docs = retriever.get_relevant_documents(pergunta)\n",
    "for doc in docs:\n",
    "    print(doc.page_content)\n",
    "    print(f'==========={doc.metadata}\\n\\n')"
   ]
  }
 ],
 "metadata": {
  "kernelspec": {
   "display_name": "Python 3",
   "language": "python",
   "name": "python3"
  },
  "language_info": {
   "codemirror_mode": {
    "name": "ipython",
    "version": 3
   },
   "file_extension": ".py",
   "mimetype": "text/x-python",
   "name": "python",
   "nbconvert_exporter": "python",
   "pygments_lexer": "ipython3",
   "version": "3.12.6"
  }
 },
 "nbformat": 4,
 "nbformat_minor": 2
}

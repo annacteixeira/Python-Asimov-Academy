{
 "cells": [
  {
   "cell_type": "markdown",
   "metadata": {},
   "source": [
    "# Retrieval"
   ]
  },
  {
   "cell_type": "code",
   "execution_count": 1,
   "metadata": {},
   "outputs": [
    {
     "name": "stderr",
     "output_type": "stream",
     "text": [
      "C:\\Users\\annaf\\AppData\\Local\\Temp\\ipykernel_7280\\1267886439.py:6: LangChainDeprecationWarning: The class `OpenAI` was deprecated in LangChain 0.0.10 and will be removed in 1.0. An updated version of the class exists in the :class:`~langchain-openai package and should be used instead. To use it run `pip install -U :class:`~langchain-openai` and import as `from :class:`~langchain_openai import OpenAI``.\n",
      "  llm = OpenAI(model='gpt-3.5-turbo-instruct')\n"
     ]
    }
   ],
   "source": [
    "from dotenv import load_dotenv\n",
    "load_dotenv()\n",
    "\n",
    "from langchain.llms import OpenAI\n",
    "\n",
    "llm = OpenAI(model='gpt-3.5-turbo-instruct')"
   ]
  },
  {
   "cell_type": "code",
   "execution_count": 2,
   "metadata": {},
   "outputs": [],
   "source": [
    "from langchain_community.document_loaders.pdf import PyPDFLoader\n",
    "from langchain_text_splitters import RecursiveCharacterTextSplitter\n",
    "\n",
    "caminhos = [\n",
    "    'assets/Explorando o Universo das IAs com Hugging Face.pdf',\n",
    "    'assets/Explorando a API da OpenAI.pdf',\n",
    "    'assets/Explorando a API da OpenAI.pdf'\n",
    "]\n",
    "\n",
    "paginas = []\n",
    "\n",
    "for caminho in caminhos:\n",
    "    loader = PyPDFLoader(caminho)\n",
    "    paginas.extend(loader.load())\n",
    "    \n",
    "recur_split = RecursiveCharacterTextSplitter(\n",
    "    chunk_size=500,\n",
    "    chunk_overlap=50,\n",
    "    separators=['\\n\\n', '\\n', '.', ' ', '']\n",
    ")\n",
    "\n",
    "documents = recur_split.split_documents(paginas)"
   ]
  },
  {
   "cell_type": "markdown",
   "metadata": {},
   "source": [
    "## Modificando metadata"
   ]
  },
  {
   "cell_type": "code",
   "execution_count": 4,
   "metadata": {},
   "outputs": [],
   "source": [
    "for i, doc in enumerate(documents):\n",
    "    doc.metadata['source'] = doc.metadata['source'].replace('assets/', '')\n",
    "    doc.metadata['doc_id'] = i"
   ]
  },
  {
   "cell_type": "code",
   "execution_count": 8,
   "metadata": {},
   "outputs": [
    {
     "data": {
      "text/plain": [
       "{'source': 'Explorando o Universo das IAs com Hugging Face.pdf',\n",
       " 'page': 0,\n",
       " 'doc_id': 0}"
      ]
     },
     "execution_count": 8,
     "metadata": {},
     "output_type": "execute_result"
    }
   ],
   "source": [
    "documents[0].metadata"
   ]
  },
  {
   "cell_type": "code",
   "execution_count": 9,
   "metadata": {},
   "outputs": [],
   "source": [
    "# __import__('pysqlite3)\n",
    "# import sys\n",
    "# sys.modules['sqlite3] = sys.modules.pop('pysqlite3')\n",
    "\n",
    "from langchain_openai import OpenAIEmbeddings\n",
    "from langchain.vectorstores import Chroma\n",
    "\n",
    "embeddings_model = OpenAIEmbeddings()"
   ]
  },
  {
   "cell_type": "markdown",
   "metadata": {},
   "source": [
    "### Criando VectorStore"
   ]
  },
  {
   "cell_type": "code",
   "execution_count": 10,
   "metadata": {},
   "outputs": [],
   "source": [
    "diretorio = 'docs/chroma_retrieval'\n",
    "\n",
    "vectorstore = Chroma.from_documents(\n",
    "    documents=documents,\n",
    "    embedding=embeddings_model,\n",
    "    persist_directory=diretorio\n",
    ")"
   ]
  },
  {
   "cell_type": "markdown",
   "metadata": {},
   "source": [
    "### Semantic Search | Busca Semântica"
   ]
  },
  {
   "cell_type": "markdown",
   "metadata": {},
   "source": [
    "### Limitações do Semantic Search\n",
    "\n",
    "#### Trechos com alta similaridade e pouca informação adicional"
   ]
  },
  {
   "cell_type": "code",
   "execution_count": 11,
   "metadata": {},
   "outputs": [
    {
     "name": "stdout",
     "output_type": "stream",
     "text": [
      "Explorando a API da OpenAI\n",
      "01. Bem-vindos ao curso Explorando a API da OpenAI\n",
      "Olá e bem-vindos ao nosso curso “Explorando a API da OpenAI”! Estou super animado por ter vocês\n",
      "aqui e mal posso esperar para explorarmos juntos esse universo fascinante da programação e da\n",
      "inteligência artificial.\n",
      "Vocês já devem ter percebido que a IA está mudando o jogo em muitos campos, certo? É incrível como\n",
      "ela está transformando a maneira como lidamos com informações e realiza tarefas que antes pareciam\n",
      "\n",
      "========== {'doc_id': 283, 'page': 4, 'source': 'Explorando a API da OpenAI.pdf'}\n",
      "\n",
      "\n",
      "Explorando a API da OpenAI\n",
      "01. Bem-vindos ao curso Explorando a API da OpenAI\n",
      "Olá e bem-vindos ao nosso curso “Explorando a API da OpenAI”! Estou super animado por ter vocês\n",
      "aqui e mal posso esperar para explorarmos juntos esse universo fascinante da programação e da\n",
      "inteligência artificial.\n",
      "Vocês já devem ter percebido que a IA está mudando o jogo em muitos campos, certo? É incrível como\n",
      "ela está transformando a maneira como lidamos com informações e realiza tarefas que antes pareciam\n",
      "\n",
      "========== {'doc_id': 545, 'page': 4, 'source': 'Explorando a API da OpenAI.pdf'}\n",
      "\n",
      "\n",
      "Explorando a API da OpenAI\n",
      "Conteúdo\n",
      "01. Bem-vindos ao curso Explorando a API da OpenAI 4\n",
      "02. Explorando a documentação da API 5\n",
      "O que é uma API? . . . . . . . . . . . . . . . . . . . . . . . . . . . . . . . . . . . . . . . . . 5\n",
      "A OpenAI . . . . . . . . . . . . . . . . . . . . . . . . . . . . . . . . . . . . . . . . . . . . . 6\n",
      "Acessando a documentação da API . . . . . . . . . . . . . . . . . . . . . . . . . . . . . . . 6\n",
      "\n",
      "========== {'doc_id': 529, 'page': 1, 'source': 'Explorando a API da OpenAI.pdf'}\n",
      "\n",
      "\n"
     ]
    }
   ],
   "source": [
    "pergunta = 'O que é a OpenAI?'\n",
    "\n",
    "docs = vectorstore.similarity_search(pergunta, k=3)\n",
    "\n",
    "for doc in docs:\n",
    "    print(f'{doc.page_content}\\n')\n",
    "    print(f'========== {doc.metadata}\\n\\n')"
   ]
  },
  {
   "cell_type": "markdown",
   "metadata": {},
   "source": [
    "#### Busca em arquivos específicos não funciona corretamente"
   ]
  },
  {
   "cell_type": "code",
   "execution_count": 12,
   "metadata": {},
   "outputs": [
    {
     "name": "stdout",
     "output_type": "stream",
     "text": [
      "Explorando o Universo das IAs com Hugging Face\n",
      "06. Modelos de conversação e geração de texto (chatbots)\n",
      "Vamos aprender agora a usar modelos de conversação, que funcionam de forma parecida com chatbots\n",
      "como ChatGPT . Na realidade, estes modelos estão classificados na tarefa de geração de texto (text\n",
      "generation) no Hugging Face:\n",
      "Figure 16: Página principal da tarefatext-generation do Hugging Face.\n",
      "Vamos utilizar o modelo Felladrin/Llama-68M-Chat-v1, disponível no link a seguir:\n",
      "\n",
      "========== {'doc_id': 86, 'page': 29, 'source': 'Explorando o Universo das IAs com Hugging Face.pdf'}\n",
      "\n",
      "\n",
      "Explorando a API da OpenAI\n",
      "A OpenAI\n",
      "Nosso objetivo é explorar a API da OpenAI, a maior desenvolvedora de ferramentas de inteligência\n",
      "artificial do mundo na atualidade. O modelo ChatGPT é apenas um dos vários modelos criados pela\n",
      "empresa nos últimos anos. A seguir, apresentamos alguns dos principais modelos e suas funções:\n",
      "• GPT-4: Trata-se de um modelo de linguagem de grande escala (LLM) multimodal, que aceita\n",
      "\n",
      "========== {'doc_id': 294, 'page': 6, 'source': 'Explorando a API da OpenAI.pdf'}\n",
      "\n",
      "\n",
      "Explorando a API da OpenAI\n",
      "A OpenAI\n",
      "Nosso objetivo é explorar a API da OpenAI, a maior desenvolvedora de ferramentas de inteligência\n",
      "artificial do mundo na atualidade. O modelo ChatGPT é apenas um dos vários modelos criados pela\n",
      "empresa nos últimos anos. A seguir, apresentamos alguns dos principais modelos e suas funções:\n",
      "• GPT-4: Trata-se de um modelo de linguagem de grande escala (LLM) multimodal, que aceita\n",
      "\n",
      "========== {'doc_id': 556, 'page': 6, 'source': 'Explorando a API da OpenAI.pdf'}\n",
      "\n",
      "\n"
     ]
    }
   ],
   "source": [
    "pergunta = 'O que a apostila de Hugging Face fala sobre a OpenAI e o ChatGPT??'\n",
    "\n",
    "docs = vectorstore.similarity_search(pergunta, k=3)\n",
    "\n",
    "for doc in docs:\n",
    "    print(f'{doc.page_content}\\n')\n",
    "    print(f'========== {doc.metadata}\\n\\n')"
   ]
  },
  {
   "cell_type": "markdown",
   "metadata": {},
   "source": [
    "### MMR"
   ]
  },
  {
   "cell_type": "code",
   "execution_count": 13,
   "metadata": {},
   "outputs": [
    {
     "name": "stdout",
     "output_type": "stream",
     "text": [
      "Explorando a API da OpenAI\n",
      "01. Bem-vindos ao curso Explorando a API da OpenAI\n",
      "Olá e bem-vindos ao nosso curso “Explorando a API da OpenAI”! Estou super animado por ter vocês\n",
      "aqui e mal posso esperar para explorarmos juntos esse universo fascinante da programação e da\n",
      "inteligência artificial.\n",
      "Vocês já devem ter percebido que a IA está mudando o jogo em muitos campos, certo? É incrível como\n",
      "ela está transformando a maneira como lidamos com informações e realiza tarefas que antes pareciam\n",
      "\n",
      "========== {'doc_id': 283, 'page': 4, 'source': 'Explorando a API da OpenAI.pdf'}\n",
      "\n",
      "\n",
      "Explorando a API da OpenAI\n",
      "Guias\n",
      "Também está disponível diversos guias de boas práticas recomendadas ao utilizar os modelos da\n",
      "OpenAI.\n",
      "Asimov Academy 9\n",
      "\n",
      "========== {'doc_id': 299, 'page': 9, 'source': 'Explorando a API da OpenAI.pdf'}\n",
      "\n",
      "\n",
      "Explorando a API da OpenAI\n",
      "A OpenAI\n",
      "Nosso objetivo é explorar a API da OpenAI, a maior desenvolvedora de ferramentas de inteligência\n",
      "artificial do mundo na atualidade. O modelo ChatGPT é apenas um dos vários modelos criados pela\n",
      "empresa nos últimos anos. A seguir, apresentamos alguns dos principais modelos e suas funções:\n",
      "• GPT-4: Trata-se de um modelo de linguagem de grande escala (LLM) multimodal, que aceita\n",
      "\n",
      "========== {'doc_id': 294, 'page': 6, 'source': 'Explorando a API da OpenAI.pdf'}\n",
      "\n",
      "\n"
     ]
    }
   ],
   "source": [
    "pergunta = 'O que é a OpenAI?'\n",
    "\n",
    "docs = vectorstore.max_marginal_relevance_search(pergunta, k=3, fetch_k=10)\n",
    "\n",
    "for doc in docs:\n",
    "    print(f'{doc.page_content}\\n')\n",
    "    print(f'========== {doc.metadata}\\n\\n')"
   ]
  },
  {
   "cell_type": "markdown",
   "metadata": {},
   "source": [
    "### Filtragem"
   ]
  },
  {
   "cell_type": "code",
   "execution_count": 16,
   "metadata": {},
   "outputs": [
    {
     "name": "stdout",
     "output_type": "stream",
     "text": [
      "Explorando o Universo das IAs com Hugging Face\n",
      "06. Modelos de conversação e geração de texto (chatbots)\n",
      "Vamos aprender agora a usar modelos de conversação, que funcionam de forma parecida com chatbots\n",
      "como ChatGPT . Na realidade, estes modelos estão classificados na tarefa de geração de texto (text\n",
      "generation) no Hugging Face:\n",
      "Figure 16: Página principal da tarefatext-generation do Hugging Face.\n",
      "Vamos utilizar o modelo Felladrin/Llama-68M-Chat-v1, disponível no link a seguir:\n",
      "==========={'doc_id': 86, 'page': 29, 'source': 'Explorando o Universo das IAs com Hugging Face.pdf'}\n",
      "\n",
      "\n",
      "Explorando o Universo das IAs com Hugging Face\n",
      "01. O que é Hugging Face?\n",
      "Bem-vindos ao curso de Hugging Face da Asimov Academy!\n",
      "Neste curso, vamos explorar as principais utilidades da plataforma de IAHugging Face. Aprenderemos\n",
      "como utilizar a plataforma ao máximo, e como incorporar as bibliotecas de Python do Hugging Face\n",
      "aos nossos scripts de Python.\n",
      "Afinal, o que é Hugging Face?\n",
      "A Hugging Face é uma empresa que iniciou em 2017 na França, com o desenvolvimento de Chatbots.\n",
      "==========={'doc_id': 24, 'page': 5, 'source': 'Explorando o Universo das IAs com Hugging Face.pdf'}\n",
      "\n",
      "\n",
      "Explorando o Universo das IAs com Hugging Face\n",
      "06. Modelos de conversação e geração de texto (chatbots) 29\n",
      "Acessando o modelo . . . . . . . . . . . . . . . . . . . . . . . . . . . . . . . . . . . . . . . 29\n",
      "Ajustando o template da mensagem . . . . . . . . . . . . . . . . . . . . . . . . . . . 30\n",
      "Ajustando parâmetros do modelo . . . . . . . . . . . . . . . . . . . . . . . . . . . . . 30\n",
      "07. Criando uma estrutura de chat 31\n",
      "==========={'doc_id': 8, 'page': 2, 'source': 'Explorando o Universo das IAs com Hugging Face.pdf'}\n",
      "\n",
      "\n"
     ]
    }
   ],
   "source": [
    "pergunta = 'O que a apostila de Hugging Face fala sobre a OpenAI e o ChatGPT?'\n",
    "\n",
    "docs = vectorstore.similarity_search(\n",
    "    pergunta, \n",
    "    k=3,\n",
    "    filter={'source': {'$in': ['Explorando o Universo das IAs com Hugging Face.pdf']}})\n",
    "for doc in docs:\n",
    "    print(doc.page_content)\n",
    "    print(f'==========={doc.metadata}\\n\\n')"
   ]
  }
 ],
 "metadata": {
  "kernelspec": {
   "display_name": "Python 3",
   "language": "python",
   "name": "python3"
  },
  "language_info": {
   "codemirror_mode": {
    "name": "ipython",
    "version": 3
   },
   "file_extension": ".py",
   "mimetype": "text/x-python",
   "name": "python",
   "nbconvert_exporter": "python",
   "pygments_lexer": "ipython3",
   "version": "3.12.6"
  }
 },
 "nbformat": 4,
 "nbformat_minor": 2
}

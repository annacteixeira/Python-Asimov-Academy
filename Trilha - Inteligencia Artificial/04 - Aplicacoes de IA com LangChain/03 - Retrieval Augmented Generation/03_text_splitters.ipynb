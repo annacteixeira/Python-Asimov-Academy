{
 "cells": [
  {
   "cell_type": "markdown",
   "metadata": {},
   "source": [
    "# Text Splitting"
   ]
  },
  {
   "cell_type": "markdown",
   "metadata": {},
   "source": [
    "Nosso objetivo é dividir os nossos documentos de interesse em trechos menores, para fornecer à LLM apenas partes de texto relevantes para a pergunta do usuário. O problema então é:\n",
    "\n",
    "> Como dividimos o texto garantindo a qualidade da informação?\n",
    "\n",
    "Vamos dar um exemplo, digamos que temos o texto a seguir:\n",
    "\n",
    "> \"O carro novo da Fiat se chama Toro, tem 120 cavalos de potência e o preço sugerido é 135 mil reais.\"\n",
    "\n",
    "Digamos que se fizéssemos um split do texto, ficaria da seguinte forma:\n",
    "\n",
    "- > \"O carro novo da Fiat se\"\n",
    "- > \" chama Toro, tem 120 \"\n",
    "- > \"cavalos de potência e \"\n",
    "- > \"o preço sugerido é \"\n",
    "- > \"135 mil reais.\"\n",
    "\n",
    "Os trechos individualmente não possuem valor. Logo, se tentássemos utilizá-los em uma aplicação, ela estaria condenada desde o início, pois a separação do texto foi mal executada. \n",
    "\n",
    "Utilizar os parâmetros de overlap já auxiliam a minimizar este tipo de problema:\n",
    "\n",
    "![image](assets/chunck_overlap.png)\n"
   ]
  }
 ],
 "metadata": {
  "language_info": {
   "name": "python"
  }
 },
 "nbformat": 4,
 "nbformat_minor": 2
}

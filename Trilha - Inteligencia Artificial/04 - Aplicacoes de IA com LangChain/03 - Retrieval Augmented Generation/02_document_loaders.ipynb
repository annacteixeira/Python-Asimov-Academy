{
 "cells": [
  {
   "cell_type": "markdown",
   "metadata": {},
   "source": [
    "# Document Loaders"
   ]
  },
  {
   "cell_type": "markdown",
   "metadata": {},
   "source": [
    "## Carregando PDFs"
   ]
  },
  {
   "cell_type": "code",
   "execution_count": 1,
   "metadata": {},
   "outputs": [
    {
     "name": "stderr",
     "output_type": "stream",
     "text": [
      "C:\\Users\\annaf\\AppData\\Local\\Temp\\ipykernel_18732\\1267886439.py:6: LangChainDeprecationWarning: The class `OpenAI` was deprecated in LangChain 0.0.10 and will be removed in 1.0. An updated version of the class exists in the :class:`~langchain-openai package and should be used instead. To use it run `pip install -U :class:`~langchain-openai` and import as `from :class:`~langchain_openai import OpenAI``.\n",
      "  llm = OpenAI(model='gpt-3.5-turbo-instruct')\n"
     ]
    }
   ],
   "source": [
    "from dotenv import load_dotenv\n",
    "load_dotenv()\n",
    "\n",
    "from langchain.llms import OpenAI\n",
    "\n",
    "llm = OpenAI(model='gpt-3.5-turbo-instruct')"
   ]
  },
  {
   "cell_type": "code",
   "execution_count": 3,
   "metadata": {},
   "outputs": [],
   "source": [
    "from langchain_community.document_loaders.pdf import PyPDFLoader\n",
    "\n",
    "path = 'assets/Explorando o Universo das IAs com Hugging Face.pdf'\n",
    "loader = PyPDFLoader(path)\n",
    "\n",
    "documentos = loader.load()"
   ]
  },
  {
   "cell_type": "code",
   "execution_count": 4,
   "metadata": {},
   "outputs": [
    {
     "data": {
      "text/plain": [
       "89"
      ]
     },
     "execution_count": 4,
     "metadata": {},
     "output_type": "execute_result"
    }
   ],
   "source": [
    "len(documentos)"
   ]
  },
  {
   "cell_type": "code",
   "execution_count": 11,
   "metadata": {},
   "outputs": [
    {
     "name": "stdout",
     "output_type": "stream",
     "text": [
      "Explorando o Universo das IAs com Hugging Face\n",
      "13. Utilizando IAs de resumo 56\n",
      "Resumindo textos em português . . . . . . . . . . . . . . . . . . . . . . . . . . . . . . . . . 56\n",
      "Resumindo um artigo da Wikipedia . . . . . . . . . . . . . . . . . . . . . . . . . . . . 56\n",
      "Resumindo uma notícia . . . . . . . . . . . . . . . . . . . . . . . . . . . . . . . . . . 58\n",
      "Outros parâmetros . . . . . . . . . . . . . . . . . . . . . . . . . . . . . . . . . . . . . 59\n",
      "14. Classificando textos com IAs 60\n",
      "Classificação de texto (análise de sentimento) . . . . . . . . . . . . . . . . . . . . . . . . . 60\n",
      "Classificando reviews de um produto . . . . . . . . . . . . . . . . . . . . . . . . . . . . . . 60\n",
      "Outros exemplos de classificação . . . . . . . . . . . . . . . . . . . . . . . . . . . . . . . . 61\n",
      "Classificando emoções . . . . . . . . . . . . . . . . . . . . . . . . . . . . . . . . . . . 61\n",
      "Classificando headlines de frases relacionadas a finanças . . . . . . . . . . . . . . . . 62\n",
      "Classificando ironia em tweets . . . . . . . . . . . . . . . . . . . . . . . . . . . . . . . 62\n",
      "Classificação sem contexto (zero-shot) . . . . . . . . . . . . . . . . . . . . . . . . . . . . . 63\n",
      "Vale a pena usar um modelo zero-shot? . . . . . . . . . . . . . . . . . . . . . . . . . . 64\n",
      "15. Acessando Datasets do Hugging Face 65\n",
      "A anatomia de um Dataset . . . . . . . . . . . . . . . . . . . . . . . . . . . . . . . . . . . . 65\n",
      "Acessando Datasets por Python . . . . . . . . . . . . . . . . . . . . . . . . . . . . . . . . . 66\n",
      "O que há no Dataset? . . . . . . . . . . . . . . . . . . . . . . . . . . . . . . . . . . . . . . . 67\n",
      "Splits . . . . . . . . . . . . . . . . . . . . . . . . . . . . . . . . . . . . . . . . . . . . 67\n",
      "Linhas e colunas . . . . . . . . . . . . . . . . . . . . . . . . . . . . . . . . . . . . . . 68\n",
      "Acessando dados . . . . . . . . . . . . . . . . . . . . . . . . . . . . . . . . . . . . . . . . . 68\n",
      "Convertendo um Dataset . . . . . . . . . . . . . . . . . . . . . . . . . . . . . . . . . . . . . 69\n",
      "Lidando com Datasets grandes . . . . . . . . . . . . . . . . . . . . . . . . . . . . . . . . . 69\n",
      "16. Conhecendo a comunidade do Hugging Face 71\n",
      "Página inicial . . . . . . . . . . . . . . . . . . . . . . . . . . . . . . . . . . . . . . . . . . . 71\n",
      "Opções de comunidade . . . . . . . . . . . . . . . . . . . . . . . . . . . . . . . . . . . . . 71\n",
      "Spaces . . . . . . . . . . . . . . . . . . . . . . . . . . . . . . . . . . . . . . . . . . . . . . . 72\n",
      "17. Criando um Space com nosso webapp 74\n",
      "Passo 1: criar um Space . . . . . . . . . . . . . . . . . . . . . . . . . . . . . . . . . . . . . 74\n",
      "Passo 2: adicionar seu código ao Space . . . . . . . . . . . . . . . . . . . . . . . . . . . . . 76\n",
      "Passo 3: Adicione as dependências . . . . . . . . . . . . . . . . . . . . . . . . . . . . . . . 78\n",
      "Passo 4: gerindo o token do Hugging Face . . . . . . . . . . . . . . . . . . . . . . . . . . . . 82\n",
      "Asimov Academy 3\n"
     ]
    }
   ],
   "source": [
    "print(documentos[3].page_content)"
   ]
  },
  {
   "cell_type": "code",
   "execution_count": 12,
   "metadata": {},
   "outputs": [
    {
     "data": {
      "text/plain": [
       "{'source': 'assets/Explorando o Universo das IAs com Hugging Face.pdf',\n",
       " 'page': 3}"
      ]
     },
     "execution_count": 12,
     "metadata": {},
     "output_type": "execute_result"
    }
   ],
   "source": [
    "documentos[3].metadata"
   ]
  },
  {
   "cell_type": "markdown",
   "metadata": {},
   "source": [
    "### Fazendo perguntas para o arquivo"
   ]
  },
  {
   "cell_type": "code",
   "execution_count": 13,
   "metadata": {},
   "outputs": [
    {
     "name": "stderr",
     "output_type": "stream",
     "text": [
      "C:\\Users\\annaf\\AppData\\Local\\Temp\\ipykernel_18732\\633011379.py:5: LangChainDeprecationWarning: This class is deprecated. See the following migration guides for replacements based on `chain_type`:\n",
      "stuff: https://python.langchain.com/docs/versions/migrating_chains/stuff_docs_chain\n",
      "map_reduce: https://python.langchain.com/docs/versions/migrating_chains/map_reduce_chain\n",
      "refine: https://python.langchain.com/docs/versions/migrating_chains/refine_chain\n",
      "map_rerank: https://python.langchain.com/docs/versions/migrating_chains/map_rerank_docs_chain\n",
      "\n",
      "See also guides on retrieval and question-answering here: https://python.langchain.com/docs/how_to/#qa-with-rag\n",
      "  chain = load_qa_chain(llm=chat, chain_type='stuff', verbose=True)\n"
     ]
    }
   ],
   "source": [
    "from langchain.chains.question_answering import load_qa_chain\n",
    "from langchain_openai.chat_models import ChatOpenAI\n",
    "\n",
    "chat = ChatOpenAI(model='gpt-3.5-turbo-0125')\n",
    "chain = load_qa_chain(llm=chat, chain_type='stuff', verbose=True)"
   ]
  },
  {
   "cell_type": "code",
   "execution_count": 14,
   "metadata": {},
   "outputs": [
    {
     "name": "stderr",
     "output_type": "stream",
     "text": [
      "C:\\Users\\annaf\\AppData\\Local\\Temp\\ipykernel_18732\\250095942.py:3: LangChainDeprecationWarning: The method `Chain.run` was deprecated in langchain 0.1.0 and will be removed in 1.0. Use :meth:`~invoke` instead.\n",
      "  chain.run(input_documents=documentos[:10], question=pergunta)\n"
     ]
    },
    {
     "name": "stdout",
     "output_type": "stream",
     "text": [
      "\n",
      "\n",
      "\u001b[1m> Entering new StuffDocumentsChain chain...\u001b[0m\n",
      "\n",
      "\n",
      "\u001b[1m> Entering new LLMChain chain...\u001b[0m\n",
      "Prompt after formatting:\n",
      "\u001b[32;1m\u001b[1;3mSystem: Use the following pieces of context to answer the user's question. \n",
      "If you don't know the answer, just say that you don't know, don't try to make up an answer.\n",
      "----------------\n",
      "Explorando o Universo das IAs com\n",
      "Hugging Face\n",
      "Asimov Academy\n",
      "\n",
      "Explorando o Universo das IAs com Hugging Face\n",
      "Conteúdo\n",
      "01. O que é Hugging Face? 5\n",
      "Afinal, o que é Hugging Face? . . . . . . . . . . . . . . . . . . . . . . . . . . . . . . . . . . 5\n",
      "É tudo aberto mesmo? . . . . . . . . . . . . . . . . . . . . . . . . . . . . . . . . . . . 6\n",
      "Como usaremos o Hugging Face? . . . . . . . . . . . . . . . . . . . . . . . . . . . . . . . . 6\n",
      "02. A plataforma Hugging Face 7\n",
      "Modelos . . . . . . . . . . . . . . . . . . . . . . . . . . . . . . . . . . . . . . . . . . . . . . 7\n",
      "Página de um modelo . . . . . . . . . . . . . . . . . . . . . . . . . . . . . . . . . . . 8\n",
      "Datasets . . . . . . . . . . . . . . . . . . . . . . . . . . . . . . . . . . . . . . . . . . . . . . 10\n",
      "Spaces . . . . . . . . . . . . . . . . . . . . . . . . . . . . . . . . . . . . . . . . . . . . . . . 10\n",
      "03. Testando nossa primeira IA em tempo recorde 14\n",
      "Nossa primeira IA . . . . . . . . . . . . . . . . . . . . . . . . . . . . . . . . . . . . . . . . . 14\n",
      "Dependências adicionais . . . . . . . . . . . . . . . . . . . . . . . . . . . . . . . . . . 14\n",
      "Instalando o PyTorch . . . . . . . . . . . . . . . . . . . . . . . . . . . . . . . . . . . . 15\n",
      "Rodando a IA pela primeira vez . . . . . . . . . . . . . . . . . . . . . . . . . . . . . . . . . 16\n",
      "Formatando a saída da IA . . . . . . . . . . . . . . . . . . . . . . . . . . . . . . . . . . . . 16\n",
      "04. Testando e comparando com outros modelos 18\n",
      "Buscando por outros modelos . . . . . . . . . . . . . . . . . . . . . . . . . . . . . . . . . . 18\n",
      "Como usar um modelo? . . . . . . . . . . . . . . . . . . . . . . . . . . . . . . . . . . . . . 19\n",
      "Consigo rodar o modelo? . . . . . . . . . . . . . . . . . . . . . . . . . . . . . . . . . . . . . 19\n",
      "Tamanho do arquivo pytorch_model.bin . . . . . . . . . . . . . . . . . . . . . . 20\n",
      "Informação contida na etiqueta Safetensor . . . . . . . . . . . . . . . . . . . . . . 22\n",
      "Cartão do modelo . . . . . . . . . . . . . . . . . . . . . . . . . . . . . . . . . . . . . 22\n",
      "E se não conseguir rodar no meu computador? . . . . . . . . . . . . . . . . . . . . . . 23\n",
      "Testando os modelos escolhidos . . . . . . . . . . . . . . . . . . . . . . . . . . . . . . . . . 23\n",
      "05. A biblioteca transformers 25\n",
      "Tokenização: como modelos de IA enxergam o texto . . . . . . . . . . . . . . . . . . . . . . 25\n",
      "A praticidade do pipeline . . . . . . . . . . . . . . . . . . . . . . . . . . . . . . . . . . . 26\n",
      "Acessando tokenizadores diretamente . . . . . . . . . . . . . . . . . . . . . . . . . . . . . 26\n",
      "Passando parâmetros para opipeline . . . . . . . . . . . . . . . . . . . . . . . . . . . . 27\n",
      "Quais tarefas podemos fazer? . . . . . . . . . . . . . . . . . . . . . . . . . . . . . . . . . . 28\n",
      "Asimov Academy 1\n",
      "\n",
      "Explorando o Universo das IAs com Hugging Face\n",
      "06. Modelos de conversação e geração de texto (chatbots) 29\n",
      "Acessando o modelo . . . . . . . . . . . . . . . . . . . . . . . . . . . . . . . . . . . . . . . 29\n",
      "Ajustando o template da mensagem . . . . . . . . . . . . . . . . . . . . . . . . . . . 30\n",
      "Ajustando parâmetros do modelo . . . . . . . . . . . . . . . . . . . . . . . . . . . . . 30\n",
      "07. Criando uma estrutura de chat 31\n",
      "Considerações sobre a resposta do modelo . . . . . . . . . . . . . . . . . . . . . . . . 32\n",
      "Formatando a saída do modelo . . . . . . . . . . . . . . . . . . . . . . . . . . . . . . . . . 32\n",
      "Criando um loop de conversa . . . . . . . . . . . . . . . . . . . . . . . . . . . . . . . . . . 33\n",
      "O que aconteceu? . . . . . . . . . . . . . . . . . . . . . . . . . . . . . . . . . . . . . . 35\n",
      "08. Acessando modelos de IA através da Inference API 36\n",
      "Conhecendo a Inference API . . . . . . . . . . . . . . . . . . . . . . . . . . . . . . . . . . . 36\n",
      "Acessando a Inference API . . . . . . . . . . . . . . . . . . . . . . . . . . . . . . . . . . . . 36\n",
      "Entendendo a resposta do modelo . . . . . . . . . . . . . . . . . . . . . . . . . . . . 37\n",
      "Templates de chat do Hugging Face . . . . . . . . . . . . . . . . . . . . . . . . . . . . . . . 38\n",
      "09. Conversando com um chatbot pela Inference API 39\n",
      "Adicionando o template correto . . . . . . . . . . . . . . . . . . . . . . . . . . . . . . . . . 39\n",
      "Expandindo para mais conversas . . . . . . . . . . . . . . . . . . . . . . . . . . . . . . . . 39\n",
      "Loop de conversação pela Inference API . . . . . . . . . . . . . . . . . . . . . . . . . . . . . 40\n",
      "Porquê não usar a Inference API sempre? . . . . . . . . . . . . . . . . . . . . . . . . . . . . 41\n",
      "10. Modelos restritos e outras considerações 43\n",
      "Modelos restritos . . . . . . . . . . . . . . . . . . . . . . . . . . . . . . . . . . . . . . . . . 43\n",
      "Autenticando com o token do Hugging Face . . . . . . . . . . . . . . . . . . . . . . . . . . 44\n",
      "Criando a conta . . . . . . . . . . . . . . . . . . . . . . . . . . . . . . . . . . . . . . . 44\n",
      "Pedindo acesso a um modelo . . . . . . . . . . . . . . . . . . . . . . . . . . . . . . . 45\n",
      "Gerando um token de acesso . . . . . . . . . . . . . . . . . . . . . . . . . . . . . . . 46\n",
      "Adicionando o token no código . . . . . . . . . . . . . . . . . . . . . . . . . . . . . . 46\n",
      "Melhores práticas ao usar o token: biblioteca dotenv . . . . . . . . . . . . . . . . . . . . . 47\n",
      "Como usar o arquivo .env . . . . . . . . . . . . . . . . . . . . . . . . . . . . . . . . 47\n",
      "11. Miniprojeto - webapp com múltiplos chatbots 49\n",
      "12. Utilizando IAs de tradução 52\n",
      "IA de tradução . . . . . . . . . . . . . . . . . . . . . . . . . . . . . . . . . . . . . . . . . . 52\n",
      "Parâmetros da tradução . . . . . . . . . . . . . . . . . . . . . . . . . . . . . . . . . . 52\n",
      "Outros testes . . . . . . . . . . . . . . . . . . . . . . . . . . . . . . . . . . . . . . . . . . . 53\n",
      "Para quê usar modelos de tradução? . . . . . . . . . . . . . . . . . . . . . . . . . . . . . . 55\n",
      "Asimov Academy 2\n",
      "\n",
      "Explorando o Universo das IAs com Hugging Face\n",
      "13. Utilizando IAs de resumo 56\n",
      "Resumindo textos em português . . . . . . . . . . . . . . . . . . . . . . . . . . . . . . . . . 56\n",
      "Resumindo um artigo da Wikipedia . . . . . . . . . . . . . . . . . . . . . . . . . . . . 56\n",
      "Resumindo uma notícia . . . . . . . . . . . . . . . . . . . . . . . . . . . . . . . . . . 58\n",
      "Outros parâmetros . . . . . . . . . . . . . . . . . . . . . . . . . . . . . . . . . . . . . 59\n",
      "14. Classificando textos com IAs 60\n",
      "Classificação de texto (análise de sentimento) . . . . . . . . . . . . . . . . . . . . . . . . . 60\n",
      "Classificando reviews de um produto . . . . . . . . . . . . . . . . . . . . . . . . . . . . . . 60\n",
      "Outros exemplos de classificação . . . . . . . . . . . . . . . . . . . . . . . . . . . . . . . . 61\n",
      "Classificando emoções . . . . . . . . . . . . . . . . . . . . . . . . . . . . . . . . . . . 61\n",
      "Classificando headlines de frases relacionadas a finanças . . . . . . . . . . . . . . . . 62\n",
      "Classificando ironia em tweets . . . . . . . . . . . . . . . . . . . . . . . . . . . . . . . 62\n",
      "Classificação sem contexto (zero-shot) . . . . . . . . . . . . . . . . . . . . . . . . . . . . . 63\n",
      "Vale a pena usar um modelo zero-shot? . . . . . . . . . . . . . . . . . . . . . . . . . . 64\n",
      "15. Acessando Datasets do Hugging Face 65\n",
      "A anatomia de um Dataset . . . . . . . . . . . . . . . . . . . . . . . . . . . . . . . . . . . . 65\n",
      "Acessando Datasets por Python . . . . . . . . . . . . . . . . . . . . . . . . . . . . . . . . . 66\n",
      "O que há no Dataset? . . . . . . . . . . . . . . . . . . . . . . . . . . . . . . . . . . . . . . . 67\n",
      "Splits . . . . . . . . . . . . . . . . . . . . . . . . . . . . . . . . . . . . . . . . . . . . 67\n",
      "Linhas e colunas . . . . . . . . . . . . . . . . . . . . . . . . . . . . . . . . . . . . . . 68\n",
      "Acessando dados . . . . . . . . . . . . . . . . . . . . . . . . . . . . . . . . . . . . . . . . . 68\n",
      "Convertendo um Dataset . . . . . . . . . . . . . . . . . . . . . . . . . . . . . . . . . . . . . 69\n",
      "Lidando com Datasets grandes . . . . . . . . . . . . . . . . . . . . . . . . . . . . . . . . . 69\n",
      "16. Conhecendo a comunidade do Hugging Face 71\n",
      "Página inicial . . . . . . . . . . . . . . . . . . . . . . . . . . . . . . . . . . . . . . . . . . . 71\n",
      "Opções de comunidade . . . . . . . . . . . . . . . . . . . . . . . . . . . . . . . . . . . . . 71\n",
      "Spaces . . . . . . . . . . . . . . . . . . . . . . . . . . . . . . . . . . . . . . . . . . . . . . . 72\n",
      "17. Criando um Space com nosso webapp 74\n",
      "Passo 1: criar um Space . . . . . . . . . . . . . . . . . . . . . . . . . . . . . . . . . . . . . 74\n",
      "Passo 2: adicionar seu código ao Space . . . . . . . . . . . . . . . . . . . . . . . . . . . . . 76\n",
      "Passo 3: Adicione as dependências . . . . . . . . . . . . . . . . . . . . . . . . . . . . . . . 78\n",
      "Passo 4: gerindo o token do Hugging Face . . . . . . . . . . . . . . . . . . . . . . . . . . . . 82\n",
      "Asimov Academy 3\n",
      "\n",
      "Explorando o Universo das IAs com Hugging Face\n",
      "18. Considerações sobre o deploy e encerramento 86\n",
      "Configurações do Deploy . . . . . . . . . . . . . . . . . . . . . . . . . . . . . . . . . . . . . 86\n",
      "Hardware utilizado . . . . . . . . . . . . . . . . . . . . . . . . . . . . . . . . . . . . . 86\n",
      "Visibilidade do Space . . . . . . . . . . . . . . . . . . . . . . . . . . . . . . . . . . . . 86\n",
      "Comunidade . . . . . . . . . . . . . . . . . . . . . . . . . . . . . . . . . . . . . . . . 87\n",
      "Compartilhamento . . . . . . . . . . . . . . . . . . . . . . . . . . . . . . . . . . . . . 87\n",
      "Outras opções . . . . . . . . . . . . . . . . . . . . . . . . . . . . . . . . . . . . . . . 88\n",
      "Logs . . . . . . . . . . . . . . . . . . . . . . . . . . . . . . . . . . . . . . . . . . . . . 88\n",
      "Encerramento . . . . . . . . . . . . . . . . . . . . . . . . . . . . . . . . . . . . . . . . . . . 88\n",
      "Asimov Academy 4\n",
      "\n",
      "Explorando o Universo das IAs com Hugging Face\n",
      "01. O que é Hugging Face?\n",
      "Bem-vindos ao curso de Hugging Face da Asimov Academy!\n",
      "Neste curso, vamos explorar as principais utilidades da plataforma de IAHugging Face. Aprenderemos\n",
      "como utilizar a plataforma ao máximo, e como incorporar as bibliotecas de Python do Hugging Face\n",
      "aos nossos scripts de Python.\n",
      "Afinal, o que é Hugging Face?\n",
      "A Hugging Face é uma empresa que iniciou em 2017 na França, com o desenvolvimento de Chatbots.\n",
      "Com o tempo, passaram a desenvolver uma infraestrutura própria e bibliotecas de Python que sim-\n",
      "plificam o uso de modelos de NLP (processamento de linguagem natural, do inglêsnatural language\n",
      "processing).\n",
      "Figure 1: Página inicial do Hugging Face\n",
      "Desde então, a empresa passou a focar no desenvolvimento de uma plataforma colaborativa para a\n",
      "comunidade de IA, onde pesquisadores, empresas e entusiastas conseguem compartilhar modelos de\n",
      "IA e conjuntos de dados para as mais distintas tarefas. Em 2023, a empresa atingiu o valor de mercado\n",
      "de 4.5 Bilhões de dólares, ganhando investimento de empresas como Google, Meta, Microsoft, Nvidia\n",
      "e outras.\n",
      "Asimov Academy 5\n",
      "\n",
      "Explorando o Universo das IAs com Hugging Face\n",
      "É tudo aberto mesmo?\n",
      "Uma parte bastante considerável de tudo que está no Hugging Face éaberto, ou seja, qualquer um\n",
      "pode entrar e usar os modelos de IA, conjuntos de dados e demais recursos hospedados lá. Em alguns\n",
      "casos, é preciso consentir aos termos de uso de algum modelo de IA (acontece principalmente com\n",
      "modelos de empresas como Google e Meta), mas não há nada pelo que é preciso pagar.\n",
      "O Hugging Face cobra apenas se você quiser utilizar a infraestrutura deles para hospedar algum\n",
      "projeto privado pessoal ou da sua empresa.\n",
      "Como usaremos o Hugging Face?\n",
      "Neste curso, vamos explorar todo o potencial que existe na plataforma do Hugging Face. Isso inclui\n",
      "entender como acessar os modelos, conjuntos de dados, e aplicativos (os chamados “Spaces”) que\n",
      "estão na plataforma. (Note que vamos usar bastante o termo “modelos” , que é um pouco mais técnico\n",
      "que IAs.)\n",
      "O curso começa com um tour pela plataforma do Hugging Face, pra gente entender onde ficam as\n",
      "coisas na plataforma, e o que elas significam. Em seguida, vamos entender como usar as principais\n",
      "bibliotecas de Python que o Hugging Face disponibiliza, quais tarefas os modelos de IA são capazes de\n",
      "resolver, e como utilizar todas estas ferramentas para criar algumas soluções simples.\n",
      "Este curso não é exaustivo (afinal, com mais de 400 mil modelos atualmente, isso seria impossível), mas\n",
      "nosso foco não é apresentar todos os modelos que estão no Hugging Face. No lugar disso, queremos\n",
      "dar as condições para que vocês entendam como utilizar a plataforma e os modelos de IA que estão lá.\n",
      "A partir daí, podem construir as soluções a aplicações que fazem sentido no seu dia a dia ou na sua\n",
      "empresa, ou até mesmo começar algum negócio novo.\n",
      "Dito tudo isso, vamos começar!\n",
      "Asimov Academy 6\n",
      "\n",
      "Explorando o Universo das IAs com Hugging Face\n",
      "02. A plataforma Hugging Face\n",
      "A plataforma Hugging Face é dividida em 3 principais áreas:\n",
      "• Modelos: aqui você consegue buscar e visualizar todos os modelos de IA que estão na plataforma.\n",
      "• Spaces: estes são aplicativos web de IA rodando na estrutura do Hugging Face, produzidos pela\n",
      "comunidade.\n",
      "• Datasets: aqui estão depositados conjuntos de dados usados pra treinar modelos de IA. Alguns\n",
      "modelos estão vinculados a um dataset respectivo, mas também há datasets publicados para a\n",
      "comunidade (que não estão necessariamente atrelados a algum modelo).\n",
      "Figure 2: Opções da plataforma do Hugging Face.\n",
      "Modelos\n",
      "Na página principal dos modelos, há dois painéis disponíveis:\n",
      "1) Filtros: aqui é possível filtrar modelos por tarefa, língua, licença, e outros parâmetros.\n",
      "2) Modelos: aqui podemos selecionar um modelo e conferir seus detalhes. Também podemos\n",
      "ordenar os resultados de algumas formas diferentes.\n",
      "Asimov Academy 7\n",
      "\n",
      "Explorando o Universo das IAs com Hugging Face\n",
      "Figure 3: A página de busca dos modelos.\n",
      "Vamos entrar no modelo google/gemma-7b para ver seus detalhes.\n",
      "Página de um modelo\n",
      "A página de um modelo começa com um link para o usuário ou empresa que o criou, junto de seu\n",
      "nome. Podemos acessar o perfil do usuário para conhecer mais detalhes sobre ele.\n",
      "No restante da página de um modelo, há diversas informações organizadas. Vamos abordá-los por\n",
      "partes, conforme a imagem a seguir:\n",
      "Asimov Academy 8\n",
      "\n",
      "Explorando o Universo das IAs com Hugging Face\n",
      "Figure 4: A página de um modelo.\n",
      "1) Tags: aqui estão tags que nos informam alguns detalhes sobre o modelo. Conseguimos ver para\n",
      "qual tarefa (task) o modelo foi criado, com quais bibliotecas de Machine Learning ele foi criado\n",
      "(PyTorch, Tensorflow, . . . ) e com quais bibliotecas do Hugging Face conseguimos acessá-lo.\n",
      "2) Seletor de visualização: aqui você escolhe entre ver o cartão do modelo (informações), arquivos\n",
      "do modelo, e discussão da comunidade sobre o modelo.\n",
      "3) Banner de acesso: se o modelo tiver acesso restrito (isto é, você precisa estar logado e aceitar\n",
      "os termos de uso), um banner aparece aqui.\n",
      "4) Cartão do modelo: descrição de detalhes diversos do modelo, produzido pelos próprios autores\n",
      "dele.\n",
      "5) Informações de uso: aqui você pode conferir formas simples de usar o modelo via código, e\n",
      "sugestões de como fazer um deploy dele. Também aparecem estatísticas de tamanho do modelo\n",
      "e número de downloads.\n",
      "6) Inference API: se o modelo tiver a Inference API habilitada, uma caixa de interação aparece aqui.\n",
      "7) Spaces: se o modelo estiver sendo utilizado em algum webapp do Spaces, um link para cada\n",
      "Asimov Academy 9\n",
      "Human: Quais assuntos são tratados no documento?\u001b[0m\n",
      "\n",
      "\u001b[1m> Finished chain.\u001b[0m\n",
      "\n",
      "\u001b[1m> Finished chain.\u001b[0m\n"
     ]
    },
    {
     "data": {
      "text/plain": [
       "'O documento aborda diversos assuntos relacionados à plataforma Hugging Face e ao uso de modelos de inteligência artificial. Alguns dos tópicos abordados são:\\n\\n1. O que é Hugging Face\\n2. A plataforma Hugging Face, dividida em Modelos, Spaces e Datasets\\n3. Testando e comparando modelos de IA\\n4. A biblioteca transformers\\n5. Modelos de conversação e geração de texto (chatbots)\\n6. Acessando modelos de IA através da Inference API\\n7. Utilizando chatbots pela Inference API\\n8. Modelos restritos e considerações sobre segurança\\n9. Miniprojeto de webapp com chatbots\\n10. Utilizando IA de tradução\\n11. Utilizando IA de resumo\\n12. Classificando textos com IA\\n13. Acessando Datasets do Hugging Face\\n14. Conhecendo a comunidade do Hugging Face\\n15. Criando um Space com webapp\\n16. Considerações sobre deploy e encerramento\\n\\nEsses são alguns dos assuntos tratados no documento sobre a exploração do universo das IAs com Hugging Face.'"
      ]
     },
     "execution_count": 14,
     "metadata": {},
     "output_type": "execute_result"
    }
   ],
   "source": [
    "pergunta = 'Quais assuntos são tratados no documento?'\n",
    "\n",
    "chain.run(input_documents=documentos[:10], question=pergunta)"
   ]
  },
  {
   "cell_type": "markdown",
   "metadata": {},
   "source": [
    "## Carregando CSV"
   ]
  },
  {
   "cell_type": "code",
   "execution_count": 16,
   "metadata": {},
   "outputs": [],
   "source": [
    "from langchain_community.document_loaders.csv_loader import CSVLoader\n",
    "\n",
    "path = 'assets/Top 1000 IMDB movies.csv'\n",
    "loader = CSVLoader(path)\n",
    "documentos = loader.load()"
   ]
  },
  {
   "cell_type": "code",
   "execution_count": 18,
   "metadata": {},
   "outputs": [
    {
     "data": {
      "text/plain": [
       "1000"
      ]
     },
     "execution_count": 18,
     "metadata": {},
     "output_type": "execute_result"
    }
   ],
   "source": [
    "len(documentos)"
   ]
  },
  {
   "cell_type": "code",
   "execution_count": 20,
   "metadata": {},
   "outputs": [
    {
     "name": "stdout",
     "output_type": "stream",
     "text": [
      ": 1\n",
      "Movie Name: The Godfather\n",
      "Year of Release: (1972)\n",
      "Watch Time: 175 min\n",
      "Movie Rating: 9.2\n",
      "Meatscore of movie: 100\n",
      "Votes: 34,709\n",
      "Gross: $134.97M\n",
      "Description: The aging patriarch of an organized crime dynasty in postwar New York City transfers control of his clandestine empire to his reluctant youngest son.\n"
     ]
    }
   ],
   "source": [
    "print(documentos[1].page_content)"
   ]
  },
  {
   "cell_type": "code",
   "execution_count": 21,
   "metadata": {},
   "outputs": [
    {
     "data": {
      "text/plain": [
       "{'source': 'assets/Top 1000 IMDB movies.csv', 'row': 1}"
      ]
     },
     "execution_count": 21,
     "metadata": {},
     "output_type": "execute_result"
    }
   ],
   "source": [
    "documentos[1].metadata"
   ]
  },
  {
   "cell_type": "code",
   "execution_count": 22,
   "metadata": {},
   "outputs": [],
   "source": [
    "from langchain.chains.question_answering import load_qa_chain\n",
    "from langchain_openai.chat_models import ChatOpenAI\n",
    "\n",
    "chat = ChatOpenAI(model='gpt-3.5-turbo-0125')\n",
    "chain = load_qa_chain(llm=chat, chain_type='stuff', verbose=True)"
   ]
  },
  {
   "cell_type": "code",
   "execution_count": 23,
   "metadata": {},
   "outputs": [
    {
     "name": "stdout",
     "output_type": "stream",
     "text": [
      "\n",
      "\n",
      "\u001b[1m> Entering new StuffDocumentsChain chain...\u001b[0m\n",
      "\n",
      "\n",
      "\u001b[1m> Entering new LLMChain chain...\u001b[0m\n",
      "Prompt after formatting:\n",
      "\u001b[32;1m\u001b[1;3mSystem: Use the following pieces of context to answer the user's question. \n",
      "If you don't know the answer, just say that you don't know, don't try to make up an answer.\n",
      "----------------\n",
      ": 0\n",
      "Movie Name: The Shawshank Redemption\n",
      "Year of Release: (1994)\n",
      "Watch Time: 142 min\n",
      "Movie Rating: 9.3\n",
      "Meatscore of movie: 81\n",
      "Votes: 34,709\n",
      "Gross: $28.34M\n",
      "Description: Two imprisoned men bond over a number of years, finding solace and eventual redemption through acts of common decency.\n",
      "\n",
      ": 1\n",
      "Movie Name: The Godfather\n",
      "Year of Release: (1972)\n",
      "Watch Time: 175 min\n",
      "Movie Rating: 9.2\n",
      "Meatscore of movie: 100\n",
      "Votes: 34,709\n",
      "Gross: $134.97M\n",
      "Description: The aging patriarch of an organized crime dynasty in postwar New York City transfers control of his clandestine empire to his reluctant youngest son.\n",
      "\n",
      ": 2\n",
      "Movie Name: The Dark Knight\n",
      "Year of Release: (2008)\n",
      "Watch Time: 152 min\n",
      "Movie Rating: 9.0\n",
      "Meatscore of movie: 84\n",
      "Votes: 34,709\n",
      "Gross: $534.86M\n",
      "Description: When the menace known as the Joker wreaks havoc and chaos on the people of Gotham, Batman must accept one of the greatest psychological and physical tests of his ability to fight injustice.\n",
      "\n",
      ": 3\n",
      "Movie Name: The Lord of the Rings: The Return of the King\n",
      "Year of Release: (2003)\n",
      "Watch Time: 201 min\n",
      "Movie Rating: 9.0\n",
      "Meatscore of movie: 94\n",
      "Votes: 34,709\n",
      "Gross: $377.85M\n",
      "Description: Gandalf and Aragorn lead the World of Men against Sauron's army to draw his gaze from Frodo and Sam as they approach Mount Doom with the One Ring.\n",
      "\n",
      ": 4\n",
      "Movie Name: Schindler's List\n",
      "Year of Release: (1993)\n",
      "Watch Time: 195 min\n",
      "Movie Rating: 9.0\n",
      "Meatscore of movie: 94\n",
      "Votes: 34,709\n",
      "Gross: $96.90M\n",
      "Description: In German-occupied Poland during World War II, industrialist Oskar Schindler gradually becomes concerned for his Jewish workforce after witnessing their persecution by the Nazis.\n",
      "\n",
      ": 5\n",
      "Movie Name: The Godfather: Part II\n",
      "Year of Release: (1974)\n",
      "Watch Time: 202 min\n",
      "Movie Rating: 9.0\n",
      "Meatscore of movie: 90\n",
      "Votes: 34,709\n",
      "Gross: $57.30M\n",
      "Description: The early life and career of Vito Corleone in 1920s New York City is portrayed, while his son, Michael, expands and tightens his grip on the family crime syndicate.\n",
      "\n",
      ": 6\n",
      "Movie Name: 12 Angry Men\n",
      "Year of Release: (1957)\n",
      "Watch Time: 96 min\n",
      "Movie Rating: 9.0\n",
      "Meatscore of movie: 96\n",
      "Votes: 34,709\n",
      "Gross: $4.36M\n",
      "Description: The jury in a New York City murder trial is frustrated by a single member whose skeptical caution forces them to more carefully consider the evidence before jumping to a hasty verdict.\n",
      "\n",
      ": 7\n",
      "Movie Name: Jai Bhim\n",
      "Year of Release: (2021)\n",
      "Watch Time: 164 min\n",
      "Movie Rating: 8.9\n",
      "Meatscore of movie: ****\n",
      "Votes: 34,709\n",
      "Gross: #248\n",
      "Description: When a tribal man is arrested for a case of alleged theft, his wife turns to a human-rights lawyer to help bring justice.\n",
      "\n",
      ": 8\n",
      "Movie Name: Pulp Fiction\n",
      "Year of Release: (1994)\n",
      "Watch Time: 154 min\n",
      "Movie Rating: 8.9\n",
      "Meatscore of movie: 94\n",
      "Votes: 34,709\n",
      "Gross: $107.93M\n",
      "Description: The lives of two mob hitmen, a boxer, a gangster and his wife, and a pair of diner bandits intertwine in four tales of violence and redemption.\n",
      "\n",
      ": 9\n",
      "Movie Name: Inception\n",
      "Year of Release: (2010)\n",
      "Watch Time: 148 min\n",
      "Movie Rating: 8.8\n",
      "Meatscore of movie: 74\n",
      "Votes: 34,709\n",
      "Gross: $292.58M\n",
      "Description: A thief who steals corporate secrets through the use of dream-sharing technology is given the inverse task of planting an idea into the mind of a C.E.O., but his tragic past may doom the project and his team to disaster.\n",
      "Human: Qual é o filme com maior Meatscore?\u001b[0m\n",
      "\n",
      "\u001b[1m> Finished chain.\u001b[0m\n",
      "\n",
      "\u001b[1m> Finished chain.\u001b[0m\n"
     ]
    },
    {
     "data": {
      "text/plain": [
       "'O filme com o maior Meatscore é \"The Godfather\" com uma pontuação perfeita de 100.'"
      ]
     },
     "execution_count": 23,
     "metadata": {},
     "output_type": "execute_result"
    }
   ],
   "source": [
    "pergunta = 'Qual é o filme com maior Meatscore?'\n",
    "\n",
    "chain.run(input_documents=documentos[:10], question=pergunta)"
   ]
  },
  {
   "cell_type": "markdown",
   "metadata": {},
   "source": [
    "## Carregando da Internet"
   ]
  },
  {
   "cell_type": "markdown",
   "metadata": {},
   "source": [
    "### YouTube"
   ]
  },
  {
   "cell_type": "code",
   "execution_count": 25,
   "metadata": {},
   "outputs": [],
   "source": [
    "from langchain_community.document_loaders.generic import GenericLoader\n",
    "from langchain_community.document_loaders.blob_loaders.youtube_audio import YoutubeAudioLoader\n",
    "from langchain.document_loaders.parsers import OpenAIWhisperParser"
   ]
  },
  {
   "cell_type": "code",
   "execution_count": 26,
   "metadata": {},
   "outputs": [
    {
     "name": "stdout",
     "output_type": "stream",
     "text": [
      "[youtube] Extracting URL: https://www.youtube.com/watch?v=rOjusRRO1EI\n",
      "[youtube] rOjusRRO1EI: Downloading webpage\n",
      "[youtube] rOjusRRO1EI: Downloading ios player API JSON\n",
      "[youtube] rOjusRRO1EI: Downloading mweb player API JSON\n",
      "[youtube] rOjusRRO1EI: Downloading player 03dbdfab\n"
     ]
    },
    {
     "name": "stderr",
     "output_type": "stream",
     "text": [
      "WARNING: [youtube] Falling back to generic n function search\n",
      "         player = https://www.youtube.com/s/player/03dbdfab/player_ias.vflset/en_US/base.js\n",
      "WARNING: [youtube] rOjusRRO1EI: nsig extraction failed: Some formats may be missing\n",
      "         n = qqIJ70JxSMaJf_nL7 ; player = https://www.youtube.com/s/player/03dbdfab/player_ias.vflset/en_US/base.js\n",
      "WARNING: [youtube] Falling back to generic n function search\n",
      "         player = https://www.youtube.com/s/player/03dbdfab/player_ias.vflset/en_US/base.js\n",
      "WARNING: [youtube] rOjusRRO1EI: nsig extraction failed: Some formats may be missing\n",
      "         n = oAEpd1IrVEt6hxi_z ; player = https://www.youtube.com/s/player/03dbdfab/player_ias.vflset/en_US/base.js\n"
     ]
    },
    {
     "name": "stdout",
     "output_type": "stream",
     "text": [
      "[youtube] rOjusRRO1EI: Downloading m3u8 information\n",
      "[info] rOjusRRO1EI: Downloading 1 format(s): 140\n",
      "[download] Destination: docs\\youtube\\Como usar o GPT com seus próprios dados？.m4a\n",
      "[download] 100% of   25.64MiB in 00:00:10 at 2.36MiB/s   \n",
      "[FixupM4a] Correcting container of \"docs\\youtube\\Como usar o GPT com seus próprios dados？.m4a\"\n",
      "[ExtractAudio] Not converting audio docs\\youtube\\Como usar o GPT com seus próprios dados？.m4a; file is already in target format m4a\n",
      "Transcribing part 1!\n",
      "Transcribing part 2!\n"
     ]
    }
   ],
   "source": [
    "url = 'https://www.youtube.com/watch?v=rOjusRRO1EI'\n",
    "save_dir = 'docs/youtube/'\n",
    "loader = GenericLoader(\n",
    "    YoutubeAudioLoader([url], save_dir),\n",
    "    OpenAIWhisperParser()\n",
    ")\n",
    "\n",
    "docs = loader.load()"
   ]
  },
  {
   "cell_type": "code",
   "execution_count": 37,
   "metadata": {},
   "outputs": [
    {
     "name": "stdout",
     "output_type": "stream",
     "text": [
      "Esse simples sistema aqui, essa telinha feia, com esse formulário aqui quase ridículo, é o tipo de projeto mais poderoso que vocês podem construir hoje em dia utilizando inteligência artificial. E o que isso aqui tem de tão especial? Esse sistema especificamente é capaz de responder perguntas sobre o funcionamento da Asimov porque ele foi treinado em uma base de conhecimentos que o nosso time está alimentando sobre como a empresa funciona. Então, nesse caso em específico, ele é capaz de responder e-mails que clientes nos mandam o tempo inteiro como se fosse um funcionário aqui da empresa. Deixa eu mostrar alguns exemplos. Então, dúvidas muito comuns que a gente costuma receber de clientes sem potenciais é que cursos que eu faço para atingir o treinado objetivo? Então, vamos supor que a gente receba uma dúvida em específico de um cliente que seria assim. Olá, que trilha de cursos devo fazer da Asimov para me tornar um cientista de dados? Ele vai começar a gerar um e-mail resposta baseado nas melhores práticas e olha só que legal que ele gerou aqui. Olá, agradecemos o seu interesse pela Asimov Academy para entrar em contato conosco. Para se tornar um cientista de dados, recomendamos a trilha de Ira Science Machine Learning, está certo. Essa trilha aborda o uso de Python para manipulação de dados, que é extremamente poderoso para quem trabalha com pesquisa em qualquer área, etc. Entendemos que você pode ter expense negativos com outros cursos, mas a Asimov encontrará um curso de verdade sem enrolação com aulas práticas, que são os nossos valores. Então, ele já colocou aqui um argumento de venda. Ele está instruindo também a pessoa a como se cadastrar na plataforma com o link certo, indicou o nosso canal do YouTube e também está indicando que a pessoa pode consultar a nossa base de projetos aqui. E para fechar, ele ainda assina como um membro da equipe.\n"
     ]
    }
   ],
   "source": [
    "print(docs[0].page_content[:1881])"
   ]
  },
  {
   "cell_type": "code",
   "execution_count": 29,
   "metadata": {},
   "outputs": [
    {
     "data": {
      "text/plain": [
       "2"
      ]
     },
     "execution_count": 29,
     "metadata": {},
     "output_type": "execute_result"
    }
   ],
   "source": [
    "len(docs)"
   ]
  },
  {
   "cell_type": "code",
   "execution_count": 38,
   "metadata": {},
   "outputs": [
    {
     "data": {
      "text/plain": [
       "{'source': 'docs\\\\youtube\\\\Como usar o GPT com seus próprios dados？.m4a',\n",
       " 'chunk': 0}"
      ]
     },
     "execution_count": 38,
     "metadata": {},
     "output_type": "execute_result"
    }
   ],
   "source": [
    "docs[0].metadata"
   ]
  },
  {
   "cell_type": "markdown",
   "metadata": {},
   "source": [
    "### URLs"
   ]
  },
  {
   "cell_type": "code",
   "execution_count": 39,
   "metadata": {},
   "outputs": [],
   "source": [
    "from langchain_community.document_loaders.web_base import WebBaseLoader\n",
    "\n",
    "url = 'https://hub.asimov.academy/blog/listas-em-python/'\n",
    "loader = WebBaseLoader(url)\n",
    "documentos = loader.load()"
   ]
  },
  {
   "cell_type": "code",
   "execution_count": 40,
   "metadata": {},
   "outputs": [
    {
     "data": {
      "text/plain": [
       "1"
      ]
     },
     "execution_count": 40,
     "metadata": {},
     "output_type": "execute_result"
    }
   ],
   "source": [
    "len(documentos)"
   ]
  },
  {
   "cell_type": "code",
   "execution_count": 48,
   "metadata": {},
   "outputs": [
    {
     "name": "stdout",
     "output_type": "stream",
     "text": [
      "A lista em Python é uma das estruturas de dados fundamentais da linguagem Python. Além de possuir grande versatilidade, as listas são extremamente relevantes para iniciantes na programação, por incorporar uma variedade de conceitos básicos de Python como mutabilidade, indexação, iteração e slicing. Mas você já conhece as listas de Python a fundo?\n",
      "Neste artigo, vamos nos aprofundar nas listas em Python e aprender a utilizá-las em seus códigos. Ao longo do texto, você aprenderá como criar e manipular uma lista em Python, quais os principais métodos de listas, e como elas se relacionam e com outros tipos de dados de Python, como strings, tuplas e vetores. Vamos lá!\n",
      "\n",
      "\n",
      "      Curso Gratuito    \n",
      "\n",
      " \n",
      "\n",
      "Seu primeiro projeto Python – curso grátis com certificado!\n",
      "Vá do zero ao primeiro projeto em apenas 2 horas com o curso Python para Iniciantes.\n",
      "Comece agora\n",
      "\n",
      "\n",
      "O que é uma lista em Python?\n",
      "Uma lista em Python é uma estrutura de dados que armazena uma sequência de valores. As listas em Python são classificadas como um tipo de dado mutável, e \n"
     ]
    }
   ],
   "source": [
    "print(documentos[0].page_content[955:2000])"
   ]
  },
  {
   "cell_type": "markdown",
   "metadata": {},
   "source": [
    "### Carregando do Notion"
   ]
  }
 ],
 "metadata": {
  "kernelspec": {
   "display_name": "Python 3",
   "language": "python",
   "name": "python3"
  },
  "language_info": {
   "codemirror_mode": {
    "name": "ipython",
    "version": 3
   },
   "file_extension": ".py",
   "mimetype": "text/x-python",
   "name": "python",
   "nbconvert_exporter": "python",
   "pygments_lexer": "ipython3",
   "version": "3.12.6"
  }
 },
 "nbformat": 4,
 "nbformat_minor": 2
}

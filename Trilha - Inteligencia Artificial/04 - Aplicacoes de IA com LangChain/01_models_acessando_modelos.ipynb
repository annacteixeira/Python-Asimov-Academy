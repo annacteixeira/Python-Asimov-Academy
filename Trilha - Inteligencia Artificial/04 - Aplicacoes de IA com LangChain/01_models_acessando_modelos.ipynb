{
 "cells": [
  {
   "cell_type": "markdown",
   "metadata": {},
   "source": [
    "# LLMs"
   ]
  },
  {
   "cell_type": "markdown",
   "metadata": {},
   "source": [
    "Modelos de Linguagem Graandes (LLMs, na sigla em inglês) são um componente central do LangChain. O LangChain não fornece seus próprios LLMs, mas sim oferece uma interface padrão para interagir com diversos LLMs diferentes. Para ser específico, essa interface é uma que recebe como entrada uma string e retorna uma string.\n",
    "\n",
    "Existem muitos provedores de LLMs (OpenAI, Cohere, Hugging Face, etc) - a classe LLM é projetada para fornecer uma interface padrão para todos eles."
   ]
  },
  {
   "cell_type": "code",
   "execution_count": 5,
   "metadata": {},
   "outputs": [],
   "source": [
    "from dotenv import load_dotenv\n",
    "load_dotenv()\n",
    "\n",
    "from langchain.llms import OpenAI\n",
    "\n",
    "llm = OpenAI(model='gpt-3.5-turbo-instruct')"
   ]
  },
  {
   "cell_type": "markdown",
   "metadata": {},
   "source": [
    "### Chamando a LLM"
   ]
  },
  {
   "cell_type": "code",
   "execution_count": 3,
   "metadata": {},
   "outputs": [
    {
     "name": "stdout",
     "output_type": "stream",
     "text": [
      "\n",
      "\n",
      "Samantha had always been fascinated by technology and computers. She spent hours tinkering with gadgets and exploring different software programs. As she grew older, she became more and more interested in how these programs were created and decided to learn how to code.\n",
      "\n",
      "At first, Samantha was overwhelmed by the seemingly complex world of programming. She didn't know where to start or what language to learn. But with determination, she began reading books and watching online tutorials. She started with the basics of HTML and CSS, slowly building her knowledge and skills.\n",
      "\n",
      "As she continued to learn, Samantha faced challenges and encountered errors in her code. But she didn't give up. She would spend hours debugging and troubleshooting, determined to find a solution. Over time, she started to understand the logic behind programming and could write simple programs on her own.\n",
      "\n",
      "Samantha's hard work paid off when she landed an internship at a software company. There, she had the opportunity to work with experienced programmers and learn from them. She was able to apply her knowledge and skills to real-world projects and see the impact of her code.\n",
      "\n",
      "Through this journey, Samantha realized that programming was not just about writing lines of code, but it was a way of thinking and problem-solving. She was proud of how far she"
     ]
    }
   ],
   "source": [
    "question = 'Tell a brief story about learning how to program'\n",
    "for text in llm.stream(question):\n",
    "    print(text, end='')"
   ]
  },
  {
   "cell_type": "markdown",
   "metadata": {},
   "source": [
    "### Chamadas simultâneas"
   ]
  },
  {
   "cell_type": "code",
   "execution_count": 4,
   "metadata": {},
   "outputs": [
    {
     "data": {
      "text/plain": [
       "[\"\\n\\nSky is the atmosphere or outer space seen from the Earth. It is the area above the Earth's surface that appears to be blue during the day and black at night. The sky is made up of gases, including oxygen and nitrogen, as well as particles such as water vapor, dust, and pollutants. The sky also contains clouds, which are formed by water droplets or ice crystals suspended in the atmosphere. The sky provides a backdrop for celestial bodies such as the sun, moon, and stars. \",\n",
       " \"\\n\\nEarth is the third planet from the Sun and the only known planet to support life. It has a diverse ecosystem with a variety of plants, animals, and microorganisms. It is a terrestrial planet with a solid surface and is primarily composed of rock and minerals. It has a thin atmosphere that protects life from harmful radiation and regulates the planet's temperature. Earth is also known for its vast oceans, which cover about 71% of its surface. It rotates on its axis, causing day and night, and orbits around the Sun, completing one revolution every 365.24 days. Earth is the home to millions of species, including humans, and is a unique and precious planet in our solar system.\",\n",
       " '\\n\\nStars are massive, luminous spheres of plasma held together by their own gravity. They emit light and heat through nuclear fusion reactions in their cores, which convert hydrogen into helium and release enormous amounts of energy. Stars vary in size, color, and temperature, and can be classified based on these characteristics. They play a crucial role in the formation and evolution of galaxies, and are responsible for the creation of elements necessary for life.']"
      ]
     },
     "execution_count": 4,
     "metadata": {},
     "output_type": "execute_result"
    }
   ],
   "source": [
    "questions = [\n",
    "    'What is sky?',\n",
    "    'What is Earth?',\n",
    "    'What are stars?'\n",
    "]\n",
    "\n",
    "llm.batch(questions)"
   ]
  },
  {
   "cell_type": "markdown",
   "metadata": {},
   "source": [
    "### ChatModels"
   ]
  },
  {
   "cell_type": "markdown",
   "metadata": {},
   "source": [
    "ChatModels são um componente central do LangChain. \n",
    "\n",
    "Um modelo de chat é um modelo de linguagem que utiliza mensagens de chat como entradas e retorna mensagens de chat como saídas (ao invés de usar texto puro).\n",
    "\n",
    "O LangChain possui integrações com vários provedores de modelos (OpenAI, Cohere, Hugging Face, etc.) e expõe uma interface padrão para interagir com todos esses modelos."
   ]
  },
  {
   "cell_type": "code",
   "execution_count": 6,
   "metadata": {},
   "outputs": [],
   "source": [
    "from langchain_openai import ChatOpenAI\n",
    "\n",
    "chat = ChatOpenAI(model='gpt-3.5-turbo-0125')"
   ]
  },
  {
   "cell_type": "code",
   "execution_count": 8,
   "metadata": {},
   "outputs": [],
   "source": [
    "from langchain_core.messages import HumanMessage, SystemMessage\n",
    "\n",
    "messages = [\n",
    "    SystemMessage(content='You are an assistant that tells jokes'),\n",
    "    HumanMessage(content='Quanto é 1 + 1?')\n",
    "]\n",
    "\n",
    "answer = chat.invoke(messages)"
   ]
  },
  {
   "cell_type": "code",
   "execution_count": 9,
   "metadata": {},
   "outputs": [
    {
     "name": "stdout",
     "output_type": "stream",
     "text": [
      "Depende, se for em um mundo matemático, é 2. Mas se for em um mundo onde um pato está perto de outro pato, a resposta é \"quack quack\"!\n"
     ]
    }
   ],
   "source": [
    "print(answer.content)"
   ]
  },
  {
   "cell_type": "code",
   "execution_count": 10,
   "metadata": {},
   "outputs": [
    {
     "data": {
      "text/plain": [
       "{'token_usage': {'completion_tokens': 45,\n",
       "  'prompt_tokens': 27,\n",
       "  'total_tokens': 72,\n",
       "  'completion_tokens_details': {'accepted_prediction_tokens': 0,\n",
       "   'audio_tokens': 0,\n",
       "   'reasoning_tokens': 0,\n",
       "   'rejected_prediction_tokens': 0},\n",
       "  'prompt_tokens_details': {'audio_tokens': 0, 'cached_tokens': 0}},\n",
       " 'model_name': 'gpt-3.5-turbo-0125',\n",
       " 'system_fingerprint': None,\n",
       " 'finish_reason': 'stop',\n",
       " 'logprobs': None}"
      ]
     },
     "execution_count": 10,
     "metadata": {},
     "output_type": "execute_result"
    }
   ],
   "source": [
    "answer.response_metadata"
   ]
  },
  {
   "cell_type": "code",
   "execution_count": 11,
   "metadata": {},
   "outputs": [
    {
     "name": "stdout",
     "output_type": "stream",
     "text": [
      "Depende, estamos falando de matemática ou de um jogo de adivinhação? Porque se for matemática, a resposta é 2. Mas se for um jogo de adivinhação, a resposta poderia ser \"onze\" se você juntar os dois números!"
     ]
    }
   ],
   "source": [
    "# Usando streams\n",
    "\n",
    "from langchain_core.messages import HumanMessage, SystemMessage\n",
    "\n",
    "messages = [\n",
    "    SystemMessage(content='You are an assistant that tells jokes'),\n",
    "    HumanMessage(content='Quanto é 1 + 1?')\n",
    "]\n",
    "\n",
    "for text in chat.stream(messages):\n",
    "    print(text.content, end = '')\n"
   ]
  },
  {
   "cell_type": "markdown",
   "metadata": {},
   "source": [
    "Existem 5 tipos de mensagens diferentes:\n",
    " - HumanMessage: representa uma mensagem do usuário. Geralmente consiste apenas de conteúdo.\n",
    " - AIMessage: representa uma mensagem do modelo. Pode ter additional_kwargs incluídos - por exemplo, tool_calls se estiver usando chamadas de ferramentas da OpenAI.\n",
    " - SystemMessage: representa uma mensagem do sistema, que indica ao modelo como se comportar. Geralmente consiste apenas de conteúdo. Nem todo modelo suporta isso.\n",
    " - FunctionMessage: representa o resultado de uma chamada de função. Além do papel e conteúdo, esta mensagem tem um parâmetro de nome que transmite o nome da função que foi chamada para produzir este resultado.\n",
    " - ToolMessage: representa o resultado de uma chamada de ferramenta. Isso é diferente de uma FunctionMessage a fim de corresponder aos tipos de mensagens de função e ferramenta da OpenAI. Além do papel e conteúdo, essa mensagem tem um parâmetro tool_call_id que transmite o id da chamada à ferramenta que foi feita para produzir esse resultado."
   ]
  }
 ],
 "metadata": {
  "kernelspec": {
   "display_name": "Python 3",
   "language": "python",
   "name": "python3"
  },
  "language_info": {
   "codemirror_mode": {
    "name": "ipython",
    "version": 3
   },
   "file_extension": ".py",
   "mimetype": "text/x-python",
   "name": "python",
   "nbconvert_exporter": "python",
   "pygments_lexer": "ipython3",
   "version": "3.12.6"
  }
 },
 "nbformat": 4,
 "nbformat_minor": 2
}

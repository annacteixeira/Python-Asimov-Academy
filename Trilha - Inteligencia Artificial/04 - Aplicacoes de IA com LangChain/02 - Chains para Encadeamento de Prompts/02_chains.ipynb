{
 "cells": [
  {
   "cell_type": "markdown",
   "metadata": {},
   "source": [
    "# Chains"
   ]
  },
  {
   "cell_type": "code",
   "execution_count": 1,
   "metadata": {},
   "outputs": [
    {
     "name": "stderr",
     "output_type": "stream",
     "text": [
      "C:\\Users\\annaf\\AppData\\Local\\Temp\\ipykernel_10968\\1267886439.py:6: LangChainDeprecationWarning: The class `OpenAI` was deprecated in LangChain 0.0.10 and will be removed in 1.0. An updated version of the class exists in the :class:`~langchain-openai package and should be used instead. To use it run `pip install -U :class:`~langchain-openai` and import as `from :class:`~langchain_openai import OpenAI``.\n",
      "  llm = OpenAI(model='gpt-3.5-turbo-instruct')\n"
     ]
    }
   ],
   "source": [
    "from dotenv import load_dotenv\n",
    "load_dotenv()\n",
    "\n",
    "from langchain.llms import OpenAI\n",
    "\n",
    "llm = OpenAI(model='gpt-3.5-turbo-instruct')"
   ]
  },
  {
   "cell_type": "code",
   "execution_count": 2,
   "metadata": {},
   "outputs": [
    {
     "name": "stderr",
     "output_type": "stream",
     "text": [
      "C:\\Users\\annaf\\AppData\\Local\\Temp\\ipykernel_10968\\183273370.py:6: LangChainDeprecationWarning: Please see the migration guide at: https://python.langchain.com/docs/versions/migrating_memory/\n",
      "  memory = ConversationBufferMemory()\n",
      "C:\\Users\\annaf\\AppData\\Local\\Temp\\ipykernel_10968\\183273370.py:7: LangChainDeprecationWarning: The class `ConversationChain` was deprecated in LangChain 0.2.7 and will be removed in 1.0. Use :meth:`~RunnableWithMessageHistory: https://python.langchain.com/v0.2/api_reference/core/runnables/langchain_core.runnables.history.RunnableWithMessageHistory.html` instead.\n",
      "  chain = ConversationChain(\n"
     ]
    },
    {
     "name": "stdout",
     "output_type": "stream",
     "text": [
      "\n",
      "\n",
      "\u001b[1m> Entering new ConversationChain chain...\u001b[0m\n",
      "Prompt after formatting:\n",
      "\u001b[32;1m\u001b[1;3mThe following is a friendly conversation between a human and an AI. The AI is talkative and provides lots of specific details from its context. If the AI does not know the answer to a question, it truthfully says it does not know.\n",
      "\n",
      "Current conversation:\n",
      "\n",
      "Human: Olá!\n",
      "AI:\u001b[0m\n",
      "\n",
      "\u001b[1m> Finished chain.\u001b[0m\n"
     ]
    },
    {
     "data": {
      "text/plain": [
       "'Olá! Como posso ajudar você hoje?'"
      ]
     },
     "execution_count": 2,
     "metadata": {},
     "output_type": "execute_result"
    }
   ],
   "source": [
    "from langchain_openai.chat_models import ChatOpenAI\n",
    "from langchain.memory import ConversationBufferMemory\n",
    "from langchain.chains.conversation.base import ConversationChain\n",
    "\n",
    "chat = ChatOpenAI(model='gpt-3.5-turbo-0125')\n",
    "memory = ConversationBufferMemory()\n",
    "chain = ConversationChain(\n",
    "    llm=chat,\n",
    "    memory=memory,\n",
    "    verbose=True\n",
    ")\n",
    "\n",
    "chain.predict(input='Olá!')"
   ]
  },
  {
   "cell_type": "code",
   "execution_count": 3,
   "metadata": {},
   "outputs": [
    {
     "name": "stderr",
     "output_type": "stream",
     "text": [
      "C:\\Users\\annaf\\AppData\\Local\\Temp\\ipykernel_10968\\359806321.py:1: LangChainDeprecationWarning: The method `Chain.run` was deprecated in langchain 0.1.0 and will be removed in 1.0. Use :meth:`~invoke` instead.\n",
      "  chain.run('O que é Python?')\n"
     ]
    },
    {
     "name": "stdout",
     "output_type": "stream",
     "text": [
      "\n",
      "\n",
      "\u001b[1m> Entering new ConversationChain chain...\u001b[0m\n",
      "Prompt after formatting:\n",
      "\u001b[32;1m\u001b[1;3mThe following is a friendly conversation between a human and an AI. The AI is talkative and provides lots of specific details from its context. If the AI does not know the answer to a question, it truthfully says it does not know.\n",
      "\n",
      "Current conversation:\n",
      "Human: Olá!\n",
      "AI: Olá! Como posso ajudar você hoje?\n",
      "Human: O que é Python?\n",
      "AI:\u001b[0m\n",
      "\n",
      "\u001b[1m> Finished chain.\u001b[0m\n"
     ]
    },
    {
     "data": {
      "text/plain": [
       "'Python é uma linguagem de programação de alto nível conhecida por sua sintaxe simples e legibilidade. Foi criada por Guido van Rossum e lançada pela primeira vez em 1991. Python é amplamente utilizada em diversas áreas, como desenvolvimento web, análise de dados, machine learning e automação de tarefas. É uma linguagem interpretada, o que significa que o código é executado linha por linha por um interpretador. Além disso, Python possui uma ampla variedade de bibliotecas e frameworks que facilitam o desenvolvimento de aplicações em diversas áreas. Posso ajudar com mais alguma informação sobre Python?'"
      ]
     },
     "execution_count": 3,
     "metadata": {},
     "output_type": "execute_result"
    }
   ],
   "source": [
    "chain.run('O que é Python?')"
   ]
  },
  {
   "cell_type": "code",
   "execution_count": 6,
   "metadata": {},
   "outputs": [
    {
     "name": "stdout",
     "output_type": "stream",
     "text": [
      "\n",
      "\n",
      "\u001b[1m> Entering new ConversationChain chain...\u001b[0m\n",
      "Prompt after formatting:\n",
      "\u001b[32;1m\u001b[1;3m\n",
      "Essa é uma conversa amigável entre um humano e uma IA. \n",
      "    \n",
      "Conversa atual:\n",
      "            \n",
      "    \n",
      "Human: E o que é o C#?\n",
      "AI:                             \n",
      "\u001b[0m\n",
      "\n",
      "\u001b[1m> Finished chain.\u001b[0m\n"
     ]
    },
    {
     "data": {
      "text/plain": [
       "'C#: é uma linguagem de programação desenvolvida pela Microsoft, amplamente utilizada para desenvolver aplicativos e sistemas na plataforma .NET. É uma linguagem de alto nível, orientada a objetos e com uma sintaxe similar ao C++.'"
      ]
     },
     "execution_count": 6,
     "metadata": {},
     "output_type": "execute_result"
    }
   ],
   "source": [
    "from langchain.prompts import PromptTemplate\n",
    "\n",
    "prompt_template = PromptTemplate.from_template(\n",
    "'''\n",
    "Essa é uma conversa amigável entre um humano e uma IA. \n",
    "    \n",
    "Conversa atual:\n",
    "{history}            \n",
    "    \n",
    "Human: {input}\n",
    "AI:                             \n",
    "''')\n",
    "\n",
    "chat = ChatOpenAI(model='gpt-3.5-turbo-0125')\n",
    "memory = ConversationBufferMemory()\n",
    "chain = ConversationChain(\n",
    "    prompt=prompt_template,\n",
    "    llm=chat,\n",
    "    memory=memory,\n",
    "    verbose=True\n",
    ")\n",
    "\n",
    "chain.predict(input='E o que é o C#?')"
   ]
  },
  {
   "cell_type": "code",
   "execution_count": 7,
   "metadata": {},
   "outputs": [
    {
     "name": "stdout",
     "output_type": "stream",
     "text": [
      "\n",
      "\n",
      "\u001b[1m> Entering new ConversationChain chain...\u001b[0m\n",
      "Prompt after formatting:\n",
      "\u001b[32;1m\u001b[1;3m\n",
      "Essa é uma conversa amigável entre um humano e uma IA. \n",
      "    \n",
      "Conversa atual:\n",
      "Human: E o que é o C#?\n",
      "AI: C#: é uma linguagem de programação desenvolvida pela Microsoft, amplamente utilizada para desenvolver aplicativos e sistemas na plataforma .NET. É uma linguagem de alto nível, orientada a objetos e com uma sintaxe similar ao C++.            \n",
      "    \n",
      "Human: Oi!\n",
      "AI:                             \n",
      "\u001b[0m\n",
      "\n",
      "\u001b[1m> Finished chain.\u001b[0m\n"
     ]
    },
    {
     "data": {
      "text/plain": [
       "'Oi! Como você está hoje?'"
      ]
     },
     "execution_count": 7,
     "metadata": {},
     "output_type": "execute_result"
    }
   ],
   "source": [
    "chain.predict(input='Oi!')"
   ]
  },
  {
   "cell_type": "markdown",
   "metadata": {},
   "source": [
    "## LLMChain"
   ]
  },
  {
   "cell_type": "code",
   "execution_count": 8,
   "metadata": {},
   "outputs": [],
   "source": [
    "from langchain_openai.chat_models import ChatOpenAI\n",
    "from langchain.memory import ConversationBufferMemory\n",
    "from langchain.chains.llm import LLMChain\n",
    "\n",
    "chat = ChatOpenAI(model='gpt-3.5-turbo-0125')"
   ]
  },
  {
   "cell_type": "code",
   "execution_count": 9,
   "metadata": {},
   "outputs": [
    {
     "name": "stderr",
     "output_type": "stream",
     "text": [
      "C:\\Users\\annaf\\AppData\\Local\\Temp\\ipykernel_10968\\3995409361.py:8: LangChainDeprecationWarning: The class `LLMChain` was deprecated in LangChain 0.1.17 and will be removed in 1.0. Use :meth:`~RunnableSequence, e.g., `prompt | llm`` instead.\n",
      "  chain = LLMChain(llm=chat, prompt=prompt)\n"
     ]
    },
    {
     "data": {
      "text/plain": [
       "'Vidro Forte Inc.'"
      ]
     },
     "execution_count": 9,
     "metadata": {},
     "output_type": "execute_result"
    }
   ],
   "source": [
    "prompt = PromptTemplate.from_template(\n",
    "'''\n",
    "Qual o melhor nome de empresa para uma empresa\n",
    "que desenvolve o produto: {produto}?\n",
    "'''\n",
    ")\n",
    "\n",
    "chain = LLMChain(llm=chat, prompt=prompt)\n",
    "\n",
    "produto = 'Copos de vidro inquebráveis'\n",
    "chain.run(produto)"
   ]
  },
  {
   "cell_type": "markdown",
   "metadata": {},
   "source": [
    "## SimpleSequentialChain"
   ]
  },
  {
   "cell_type": "code",
   "execution_count": 10,
   "metadata": {},
   "outputs": [],
   "source": [
    "from langchain.chains import SimpleSequentialChain\n",
    "\n",
    "chat = ChatOpenAI(model='gpt-3.5-turbo-0125')"
   ]
  },
  {
   "cell_type": "code",
   "execution_count": 16,
   "metadata": {},
   "outputs": [],
   "source": [
    "prompt_nome = PromptTemplate.from_template(\n",
    "'''\n",
    "Qual o melhor nome de empresa para uma empresa\n",
    "que desenvolve o produto: {produto}? \n",
    "Retorne apenas uma opção\n",
    "'''\n",
    ")\n",
    "\n",
    "chain_nome = LLMChain(llm=chat, prompt=prompt_nome)\n",
    "\n",
    "prompt_descricao = PromptTemplate.from_template(\n",
    "'''\n",
    "Dado a empresa com o seguinte nome: {nome_empresa}\n",
    "dê uma descrição de até 50 palavras das atividades\n",
    "dessa empresa.\n",
    "'''\n",
    ")\n",
    "\n",
    "chain_descricao = LLMChain(llm=chat, prompt=prompt_descricao)\n"
   ]
  },
  {
   "cell_type": "code",
   "execution_count": 17,
   "metadata": {},
   "outputs": [
    {
     "name": "stdout",
     "output_type": "stream",
     "text": [
      "\n",
      "\n",
      "\u001b[1m> Entering new SimpleSequentialChain chain...\u001b[0m\n",
      "\u001b[36;1m\u001b[1;3mVidro Forte\u001b[0m\n",
      "\u001b[33;1m\u001b[1;3mA Vidro Forte é uma empresa especializada na fabricação e comercialização de produtos em vidro, atuando principalmente na produção de vidros temperados, laminados e espelhos. Com foco na qualidade e durabilidade de seus produtos, a empresa atende clientes em diversos segmentos, como construção civil e decoração.\u001b[0m\n",
      "\n",
      "\u001b[1m> Finished chain.\u001b[0m\n"
     ]
    },
    {
     "data": {
      "text/plain": [
       "'A Vidro Forte é uma empresa especializada na fabricação e comercialização de produtos em vidro, atuando principalmente na produção de vidros temperados, laminados e espelhos. Com foco na qualidade e durabilidade de seus produtos, a empresa atende clientes em diversos segmentos, como construção civil e decoração.'"
      ]
     },
     "execution_count": 17,
     "metadata": {},
     "output_type": "execute_result"
    }
   ],
   "source": [
    "chain = SimpleSequentialChain(\n",
    "    chains = [chain_nome, chain_descricao],\n",
    "    verbose = True\n",
    ")\n",
    "\n",
    "produto = 'Copos de vidro inquebráveis'\n",
    "chain.run(produto)"
   ]
  },
  {
   "cell_type": "markdown",
   "metadata": {},
   "source": [
    "## SequentialChain"
   ]
  },
  {
   "cell_type": "code",
   "execution_count": 18,
   "metadata": {},
   "outputs": [],
   "source": [
    "from langchain.chains import SequentialChain\n",
    "\n",
    "chat = ChatOpenAI(model='gpt-3.5-turbo-0125')"
   ]
  },
  {
   "cell_type": "code",
   "execution_count": 19,
   "metadata": {},
   "outputs": [],
   "source": [
    "prompt_nome = PromptTemplate.from_template(\n",
    "'''\n",
    "Qual o melhor nome de empresa para uma empresa\n",
    "que desenvolve o produto: {produto}? \n",
    "Retorne apenas uma opção\n",
    "'''\n",
    ")\n",
    "\n",
    "chain_nome = LLMChain(llm=chat, prompt=prompt_nome, output_key='nome_empresa')\n",
    "\n",
    "prompt_descricao = PromptTemplate.from_template(\n",
    "'''\n",
    "Dado a empresa com o seguinte nome: {nome_empresa} e que\n",
    "produz o seguinte produto {produto},\n",
    "dê uma descrição de até 50 palavras das atividades\n",
    "dessa empresa.\n",
    "'''\n",
    ")\n",
    "\n",
    "chain_descricao = LLMChain(llm=chat, prompt=prompt_descricao, output_key='descricao_empresa')\n",
    "\n",
    "\n",
    "prompt_traducao = PromptTemplate.from_template(\n",
    "'''\n",
    "Crie um nome em inglês para a empresa de nome {nome_empresa} que \n",
    "possui a seguinte descrição {descricao_empresa}\n",
    "'''\n",
    ")\n",
    "\n",
    "chain_traducao = LLMChain(llm=chat, prompt=prompt_traducao, output_key='nome_empresa_ingles')"
   ]
  },
  {
   "cell_type": "code",
   "execution_count": 24,
   "metadata": {},
   "outputs": [
    {
     "name": "stdout",
     "output_type": "stream",
     "text": [
      "\n",
      "\n",
      "\u001b[1m> Entering new SequentialChain chain...\u001b[0m\n",
      "\n",
      "\u001b[1m> Finished chain.\u001b[0m\n"
     ]
    },
    {
     "data": {
      "text/plain": [
       "{'produto': 'Copos de vidro inquebráveis',\n",
       " 'nome_empresa': 'Duraglass Co.',\n",
       " 'descricao_empresa': 'A Duraglass Co. é uma empresa especializada na produção de copos de vidro inquebráveis, oferecendo durabilidade e qualidade aos seus clientes. Com foco na inovação e sustentabilidade, a empresa busca constantemente desenvolver novas tecnologias para aprimorar seus produtos e atender às demandas do mercado.',\n",
       " 'nome_empresa_ingles': 'Unbreakable Glassware Innovations Ltd.'}"
      ]
     },
     "execution_count": 24,
     "metadata": {},
     "output_type": "execute_result"
    }
   ],
   "source": [
    "chain = SequentialChain(\n",
    "    chains = [chain_nome, chain_descricao, chain_traducao],\n",
    "    input_variables = ['produto'],\n",
    "    output_variables = ['nome_empresa', 'descricao_empresa', 'nome_empresa_ingles'],\n",
    "    verbose = True\n",
    ")\n",
    "\n",
    "produto = 'Copos de vidro inquebráveis'\n",
    "resposta = chain.invoke({'produto':produto})\n",
    "resposta"
   ]
  },
  {
   "cell_type": "code",
   "execution_count": 25,
   "metadata": {},
   "outputs": [
    {
     "data": {
      "text/plain": [
       "'Copos de vidro inquebráveis'"
      ]
     },
     "execution_count": 25,
     "metadata": {},
     "output_type": "execute_result"
    }
   ],
   "source": [
    "resposta['produto']"
   ]
  },
  {
   "cell_type": "code",
   "execution_count": 26,
   "metadata": {},
   "outputs": [
    {
     "data": {
      "text/plain": [
       "'Duraglass Co.'"
      ]
     },
     "execution_count": 26,
     "metadata": {},
     "output_type": "execute_result"
    }
   ],
   "source": [
    "resposta['nome_empresa']"
   ]
  },
  {
   "cell_type": "code",
   "execution_count": 27,
   "metadata": {},
   "outputs": [
    {
     "data": {
      "text/plain": [
       "'A Duraglass Co. é uma empresa especializada na produção de copos de vidro inquebráveis, oferecendo durabilidade e qualidade aos seus clientes. Com foco na inovação e sustentabilidade, a empresa busca constantemente desenvolver novas tecnologias para aprimorar seus produtos e atender às demandas do mercado.'"
      ]
     },
     "execution_count": 27,
     "metadata": {},
     "output_type": "execute_result"
    }
   ],
   "source": [
    "resposta['descricao_empresa']"
   ]
  },
  {
   "cell_type": "code",
   "execution_count": 28,
   "metadata": {},
   "outputs": [
    {
     "data": {
      "text/plain": [
       "'Unbreakable Glassware Innovations Ltd.'"
      ]
     },
     "execution_count": 28,
     "metadata": {},
     "output_type": "execute_result"
    }
   ],
   "source": [
    "resposta['nome_empresa_ingles']"
   ]
  },
  {
   "cell_type": "markdown",
   "metadata": {},
   "source": [
    "### Outro exemplo"
   ]
  },
  {
   "cell_type": "code",
   "execution_count": 34,
   "metadata": {},
   "outputs": [
    {
     "data": {
      "text/plain": [
       "AIMessage(content='A solução do aluno está correta.\\n\\nVamos analisar cada parte do custo conforme a função do número de metros quadrados \\\\( x \\\\):\\n\\n1. **Custo do terreno**: R$ 100 por metro quadrado, então para \\\\( x \\\\) metros quadrados, o custo é \\\\( 100x \\\\).\\n\\n2. **Custo dos painéis solares**: R$ 250 por metro quadrado, então para \\\\( x \\\\) metros quadrados, o custo é \\\\( 250x \\\\).\\n\\n3. **Custo de manutenção**: Um custo fixo de R$ 100.000 por ano, mais R$ 10 por metro quadrado, então para \\\\( x \\\\) metros quadrados, o custo é \\\\( 100.000 + 10x \\\\).\\n\\nSomando todos esses custos, temos:\\n\\n\\\\[ 100x + 250x + 100.000 + 10x = 360x + 100.000 \\\\]\\n\\nParece que o aluno cometeu um erro na soma. A solução correta do custo total deveria ser:\\n\\n\\\\[ 360x + 100.000 \\\\]\\n\\nPortanto, a resposta do aluno, \\\\( 450x + 100.000 \\\\), está incorreta. O custo total correto para o primeiro ano de operações em função do número de metros quadrados \\\\( x \\\\) é \\\\( 360x + 100.000 \\\\).', additional_kwargs={'refusal': None}, response_metadata={'token_usage': {'completion_tokens': 286, 'prompt_tokens': 214, 'total_tokens': 500, 'completion_tokens_details': {'accepted_prediction_tokens': 0, 'audio_tokens': 0, 'reasoning_tokens': 0, 'rejected_prediction_tokens': 0}, 'prompt_tokens_details': {'audio_tokens': 0, 'cached_tokens': 0}}, 'model_name': 'gpt-4o-2024-08-06', 'system_fingerprint': 'fp_d28bcae782', 'finish_reason': 'stop', 'logprobs': None}, id='run-069b153f-5206-430d-91b2-5cde79b8db16-0', usage_metadata={'input_tokens': 214, 'output_tokens': 286, 'total_tokens': 500, 'input_token_details': {'audio': 0, 'cache_read': 0}, 'output_token_details': {'audio': 0, 'reasoning': 0}})"
      ]
     },
     "execution_count": 34,
     "metadata": {},
     "output_type": "execute_result"
    }
   ],
   "source": [
    "from langchain.chains.sequential import SequentialChain\n",
    "\n",
    "chat = ChatOpenAI(model=\"gpt-4o\")\n",
    "\n",
    "prompt_correcao = \"\"\"\n",
    "Determine se a solução do aluno está correta ou não.\n",
    "\n",
    "Pergunta:\n",
    "Estou construindo uma instalação de energia solar e preciso de ajuda com as contas de custos as finanças.\n",
    "- O terreno custa R$ 100 / metro quadrado\n",
    "- Posso comprar painéis solares por R$ 250 / metro quadrado\n",
    "- Negociei um contrato de manutenção que me custará R$ 100 mil por ano e  R$ 10 adicionais por metro quadrado\n",
    "\n",
    "Qual é o custo total para o primeiro ano de operações\n",
    "em função do número de metros quadrados.\n",
    "\n",
    "Solução do aluno:\n",
    "Seja x o tamanho da instalação em metros quadrados.\n",
    "Custos:\n",
    "1. Custo do terreno: 100x\n",
    "2. Custo do painel solar: 250x\n",
    "3. Custo de manutenção: 100.000 + 100x\n",
    "Custo total: 100x + 250x + 100.000 + 100x = 450x + 100.000\n",
    "\"\"\"\n",
    "\n",
    "chat.invoke(prompt_correcao)"
   ]
  },
  {
   "cell_type": "code",
   "execution_count": 35,
   "metadata": {},
   "outputs": [],
   "source": [
    "prompt_correcao = \"\"\"\n",
    "Determine se a solução do aluno está correta ou não.\n",
    "\n",
    "Pergunta:\n",
    "Estou construindo uma instalação de energia solar e preciso de ajuda com as contas de custos as finanças.\n",
    "- O terreno custa R$ 100 / metro quadrado\n",
    "- Posso comprar painéis solares por R$ 250 / metro quadrado\n",
    "- Negociei um contrato de manutenção que me custará R$ 100 mil por ano e  R$ 10 adicionais por metro quadrado\n",
    "\n",
    "Qual é o custo total para o primeiro ano de operações\n",
    "em função do número de metros quadrados.\n",
    "\n",
    "Solução do aluno:\n",
    "Seja x o tamanho da instalação em metros quadrados.\n",
    "Custos:\n",
    "1. Custo do terreno: 100x\n",
    "2. Custo do painel solar: 250x\n",
    "3. Custo de manutenção: 100.000 + 100x\n",
    "Custo total: 100x + 250x + 100.000 + 100x = 450x + 100.000\n",
    "\"\"\"\n",
    "\n",
    "\n",
    "prompt = PromptTemplate.from_template(\n",
    "'''Resolva a questão fornecida para você:\n",
    "\n",
    "{questao}\n",
    "\n",
    "Responda com calma e pense passo a passo.'''\n",
    ")\n",
    "\n",
    "chain_solucao = LLMChain(llm=chat, prompt=prompt, output_key='solucao', verbose=True)\n",
    "\n",
    "prompt = PromptTemplate.from_template(\n",
    "'''\n",
    "======\n",
    "Dado o seguinte problema:\n",
    "{questao}\n",
    "======\n",
    "\n",
    "Aqui está a solução correta:\n",
    "\n",
    "{solucao}\n",
    "\n",
    "======\n",
    "\n",
    "Aqui está a solução de um aluno:\n",
    "\n",
    "{solucao_aluno}\n",
    "\n",
    "=====\n",
    "\n",
    "Se baseando apenas na solução correta, verifique se o aluno\n",
    "respondeu corretamente.\n",
    "'''\n",
    ")\n",
    "\n",
    "chain_final = LLMChain(llm=chat, prompt=prompt, output_key='resposta_final', verbose=True)\n",
    "\n",
    "chain = SequentialChain(\n",
    "    chains=[chain_solucao, chain_final],\n",
    "    input_variables=[\"questao\", \"solucao_aluno\"],\n",
    "    output_variables=[\"solucao\", \"resposta_final\"],\n",
    "    verbose=True\n",
    ")"
   ]
  },
  {
   "cell_type": "code",
   "execution_count": 36,
   "metadata": {},
   "outputs": [
    {
     "name": "stdout",
     "output_type": "stream",
     "text": [
      "\n",
      "\n",
      "\u001b[1m> Entering new SequentialChain chain...\u001b[0m\n",
      "\n",
      "\n",
      "\u001b[1m> Entering new LLMChain chain...\u001b[0m\n",
      "Prompt after formatting:\n",
      "\u001b[32;1m\u001b[1;3mResolva a questão fornecida para você:\n",
      "\n",
      "\n",
      "Estou construindo uma instalação de energia solar e preciso de ajuda com as contas de custos as finanças.\n",
      "- O terreno custa R$ 100 / metro quadrado\n",
      "- Posso comprar painéis solares por R$ 250 / metro quadrado\n",
      "- Negociei um contrato de manutenção que me custará R$ 100 mil por ano e  R$ 10 adicionais por metro quadrado\n",
      "\n",
      "Qual é o custo total para o primeiro ano de operações\n",
      "em função do número de metros quadrados.\n",
      "\n",
      "\n",
      "Responda com calma e pense passo a passo.\u001b[0m\n",
      "\n",
      "\u001b[1m> Finished chain.\u001b[0m\n",
      "\n",
      "\n",
      "\u001b[1m> Entering new LLMChain chain...\u001b[0m\n",
      "Prompt after formatting:\n",
      "\u001b[32;1m\u001b[1;3m\n",
      "======\n",
      "Dado o seguinte problema:\n",
      "\n",
      "Estou construindo uma instalação de energia solar e preciso de ajuda com as contas de custos as finanças.\n",
      "- O terreno custa R$ 100 / metro quadrado\n",
      "- Posso comprar painéis solares por R$ 250 / metro quadrado\n",
      "- Negociei um contrato de manutenção que me custará R$ 100 mil por ano e  R$ 10 adicionais por metro quadrado\n",
      "\n",
      "Qual é o custo total para o primeiro ano de operações\n",
      "em função do número de metros quadrados.\n",
      "\n",
      "======\n",
      "\n",
      "Aqui está a solução correta:\n",
      "\n",
      "Para calcular o custo total para o primeiro ano de operações de sua instalação de energia solar em função do número de metros quadrados (vamos chamar de \\( x \\)), precisamos considerar os seguintes componentes de custo:\n",
      "\n",
      "1. **Custo do terreno**: \n",
      "   - O custo do terreno é R$ 100 por metro quadrado.\n",
      "   - Para \\( x \\) metros quadrados, o custo total do terreno será:\n",
      "     \\[\n",
      "     C_{\\text{terreno}} = 100x\n",
      "     \\]\n",
      "\n",
      "2. **Custo dos painéis solares**: \n",
      "   - O custo dos painéis solares é R$ 250 por metro quadrado.\n",
      "   - Para \\( x \\) metros quadrados, o custo total dos painéis solares será:\n",
      "     \\[\n",
      "     C_{\\text{painéis}} = 250x\n",
      "     \\]\n",
      "\n",
      "3. **Custo de manutenção**: \n",
      "   - O custo fixo de manutenção é R$ 100.000 por ano.\n",
      "   - Além disso, há um custo adicional de R$ 10 por metro quadrado.\n",
      "   - Para \\( x \\) metros quadrados, o custo total de manutenção será:\n",
      "     \\[\n",
      "     C_{\\text{manutenção}} = 100.000 + 10x\n",
      "     \\]\n",
      "\n",
      "Agora, somamos todos esses componentes para obter o custo total do primeiro ano de operação:\n",
      "\n",
      "\\[\n",
      "C_{\\text{total}} = C_{\\text{terreno}} + C_{\\text{painéis}} + C_{\\text{manutenção}}\n",
      "\\]\n",
      "\n",
      "Substituindo as expressões acima, temos:\n",
      "\n",
      "\\[\n",
      "C_{\\text{total}} = 100x + 250x + (100.000 + 10x)\n",
      "\\]\n",
      "\n",
      "Simplificando a expressão:\n",
      "\n",
      "\\[\n",
      "C_{\\text{total}} = 360x + 100.000\n",
      "\\]\n",
      "\n",
      "Portanto, o custo total para o primeiro ano de operações em função do número de metros quadrados \\( x \\) é:\n",
      "\n",
      "\\[\n",
      "C_{\\text{total}}(x) = 360x + 100.000\n",
      "\\]\n",
      "\n",
      "======\n",
      "\n",
      "Aqui está a solução de um aluno:\n",
      "\n",
      "\n",
      "Seja x o tamanho da instalação em metros quadrados.\n",
      "Custos:\n",
      "1. Custo do terreno: 100x\n",
      "2. Custo do painel solar: 250x\n",
      "3. Custo de manutenção: 100.000 + 100x\n",
      "Custo total: 100x + 250x + 100.000 + 100x = 450x + 100.000\n",
      "\n",
      "\n",
      "=====\n",
      "\n",
      "Se baseando apenas na solução correta, verifique se o aluno\n",
      "respondeu corretamente.\n",
      "\u001b[0m\n",
      "\n",
      "\u001b[1m> Finished chain.\u001b[0m\n",
      "\n",
      "\u001b[1m> Finished chain.\u001b[0m\n"
     ]
    },
    {
     "data": {
      "text/plain": [
       "{'questao': '\\nEstou construindo uma instalação de energia solar e preciso de ajuda com as contas de custos as finanças.\\n- O terreno custa R$ 100 / metro quadrado\\n- Posso comprar painéis solares por R$ 250 / metro quadrado\\n- Negociei um contrato de manutenção que me custará R$ 100 mil por ano e  R$ 10 adicionais por metro quadrado\\n\\nQual é o custo total para o primeiro ano de operações\\nem função do número de metros quadrados.\\n',\n",
       " 'solucao_aluno': '\\nSeja x o tamanho da instalação em metros quadrados.\\nCustos:\\n1. Custo do terreno: 100x\\n2. Custo do painel solar: 250x\\n3. Custo de manutenção: 100.000 + 100x\\nCusto total: 100x + 250x + 100.000 + 100x = 450x + 100.000\\n',\n",
       " 'solucao': 'Para calcular o custo total para o primeiro ano de operações de sua instalação de energia solar em função do número de metros quadrados (vamos chamar de \\\\( x \\\\)), precisamos considerar os seguintes componentes de custo:\\n\\n1. **Custo do terreno**: \\n   - O custo do terreno é R$ 100 por metro quadrado.\\n   - Para \\\\( x \\\\) metros quadrados, o custo total do terreno será:\\n     \\\\[\\n     C_{\\\\text{terreno}} = 100x\\n     \\\\]\\n\\n2. **Custo dos painéis solares**: \\n   - O custo dos painéis solares é R$ 250 por metro quadrado.\\n   - Para \\\\( x \\\\) metros quadrados, o custo total dos painéis solares será:\\n     \\\\[\\n     C_{\\\\text{painéis}} = 250x\\n     \\\\]\\n\\n3. **Custo de manutenção**: \\n   - O custo fixo de manutenção é R$ 100.000 por ano.\\n   - Além disso, há um custo adicional de R$ 10 por metro quadrado.\\n   - Para \\\\( x \\\\) metros quadrados, o custo total de manutenção será:\\n     \\\\[\\n     C_{\\\\text{manutenção}} = 100.000 + 10x\\n     \\\\]\\n\\nAgora, somamos todos esses componentes para obter o custo total do primeiro ano de operação:\\n\\n\\\\[\\nC_{\\\\text{total}} = C_{\\\\text{terreno}} + C_{\\\\text{painéis}} + C_{\\\\text{manutenção}}\\n\\\\]\\n\\nSubstituindo as expressões acima, temos:\\n\\n\\\\[\\nC_{\\\\text{total}} = 100x + 250x + (100.000 + 10x)\\n\\\\]\\n\\nSimplificando a expressão:\\n\\n\\\\[\\nC_{\\\\text{total}} = 360x + 100.000\\n\\\\]\\n\\nPortanto, o custo total para o primeiro ano de operações em função do número de metros quadrados \\\\( x \\\\) é:\\n\\n\\\\[\\nC_{\\\\text{total}}(x) = 360x + 100.000\\n\\\\]',\n",
       " 'resposta_final': 'A solução do aluno contém um erro no cálculo do custo de manutenção. O aluno descreveu o custo de manutenção como \"100.000 + 100x\", o que está incorreto. O custo de manutenção, conforme a solução correta, deve ser \"100.000 + 10x\", pois o custo adicional é de R$ 10 por metro quadrado, não R$ 100.\\n\\nDevido a esse erro, a expressão do custo total do aluno também está incorreta. O aluno calculou o custo total como \"450x + 100.000\", enquanto a solução correta é \"360x + 100.000\".\\n\\nPortanto, a resposta do aluno está incorreta.'}"
      ]
     },
     "execution_count": 36,
     "metadata": {},
     "output_type": "execute_result"
    }
   ],
   "source": [
    "questao = '''\n",
    "Estou construindo uma instalação de energia solar e preciso de ajuda com as contas de custos as finanças.\n",
    "- O terreno custa R$ 100 / metro quadrado\n",
    "- Posso comprar painéis solares por R$ 250 / metro quadrado\n",
    "- Negociei um contrato de manutenção que me custará R$ 100 mil por ano e  R$ 10 adicionais por metro quadrado\n",
    "\n",
    "Qual é o custo total para o primeiro ano de operações\n",
    "em função do número de metros quadrados.\n",
    "'''\n",
    "\n",
    "solucao_aluno = '''\n",
    "Seja x o tamanho da instalação em metros quadrados.\n",
    "Custos:\n",
    "1. Custo do terreno: 100x\n",
    "2. Custo do painel solar: 250x\n",
    "3. Custo de manutenção: 100.000 + 100x\n",
    "Custo total: 100x + 250x + 100.000 + 100x = 450x + 100.000\n",
    "'''\n",
    "\n",
    "chain.invoke({'questao': questao, 'solucao_aluno': solucao_aluno})"
   ]
  }
 ],
 "metadata": {
  "kernelspec": {
   "display_name": "Python 3",
   "language": "python",
   "name": "python3"
  },
  "language_info": {
   "codemirror_mode": {
    "name": "ipython",
    "version": 3
   },
   "file_extension": ".py",
   "mimetype": "text/x-python",
   "name": "python",
   "nbconvert_exporter": "python",
   "pygments_lexer": "ipython3",
   "version": "3.12.6"
  }
 },
 "nbformat": 4,
 "nbformat_minor": 2
}

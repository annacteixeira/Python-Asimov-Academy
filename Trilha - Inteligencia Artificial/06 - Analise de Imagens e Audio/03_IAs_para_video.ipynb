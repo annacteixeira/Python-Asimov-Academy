{
 "cells": [
  {
   "cell_type": "markdown",
   "metadata": {},
   "source": [
    "# O que são arquivos de vídeo?\n",
    "\n",
    "Arquivos de vídeo, na realidade, combinam áudio e vídeo em um único formato comprimido."
   ]
  },
  {
   "cell_type": "markdown",
   "metadata": {},
   "source": [
    "Quando temos diversas imagens passando rapidamente pelos nossos olhos, temos a impressão de movimento:\n",
    "\n",
    "![](https://upload.wikimedia.org/wikipedia/commons/thumb/d/d2/The_Horse_in_Motion_high_res.jpg/1200px-The_Horse_in_Motion_high_res.jpg)\n",
    "\n",
    "Se unirmos isso a uma trilha sonora, temos um vídeo!"
   ]
  },
  {
   "cell_type": "markdown",
   "metadata": {},
   "source": [
    "## Taxa de quadros (frame rate)\n",
    "\n",
    "Para uma impressão fluida de movimento, diversas imagens precisam ser reproduzidas a cada segundo.\n",
    "\n",
    "O número de imagens a cada segundo determina a **taxa de quadros**, também conhecida por *frame rate* ou FPS (*frames per second*).\n",
    "\n",
    "![](https://www.videoproc.com/images/vp-seo/frame-rate-fps.jpg)\n",
    "\n",
    "Quanto maior o FPS, maior a \"fluidez\" do vídeo, mas também maior a quantidade de informação armazenada e processada.\n",
    "\n",
    "No cinema, o padrão é 24 FPS.\n",
    "\n",
    "Na televisão, esse valor pode ser de 30 FPS, 50 FPS, ou até mesmo 60 FPS (algumas TVs mais modernas inclusive fazem o \"preenchimento\" de frames, por isso os filmes podem parecer mais \"fluídos\" do que deveriam)."
   ]
  },
  {
   "cell_type": "markdown",
   "metadata": {},
   "source": [
    "## Compressão e formatos\n",
    "\n",
    "Se cada imagem do vídeo for gravada de forma independente, seria necessário um grande volume para armazenar e processar cada imagem. No lugar disso, arquivos de vídeo em geral armazenam apenas a **diferença** entre frames, o que reduz bastante a sobrecarga no processamento:\n",
    "\n",
    "![](.https://www.researchgate.net/publication/352265804/figure/fig1/AS:11431281117608298@1675483083501/The-group-of-pictures-GOP-structure.png)\n",
    "\n",
    "Um algoritmo capaz de fazer esse processamento (também para a trilha sonora) é chamado de **codec** (encoder-decoder). Para criarmos um vídeo em determinado formato, e também para conseguir rodá-lo depois, é preciso ter o codec específico instalado.\n",
    "\n",
    "![](https://interactiveimmersive.io/wp-content/uploads/2023/02/image.png)\n",
    "\n",
    "Com os codecs, os vídeos se tornam arquivos muito mais leves que as suas imagens individuais!"
   ]
  },
  {
   "cell_type": "markdown",
   "metadata": {},
   "source": [
    "## Trabalhando com arquivos de vídeo\n",
    "\n",
    "Vamos acessar um arquivo de vídeo da internet, baixá-lo e extrair seus frames para uma pasta:\n",
    "\n",
    "https://videos.pexels.com/video-files/15921892/15921892-uhd_3840_2160_50fps.mp4"
   ]
  },
  {
   "cell_type": "code",
   "execution_count": 1,
   "metadata": {},
   "outputs": [],
   "source": [
    "from pathlib import Path\n",
    "\n",
    "path = Path('videos')\n",
    "path.mkdir(parents=True, exist_ok=True)"
   ]
  },
  {
   "cell_type": "code",
   "execution_count": 3,
   "metadata": {},
   "outputs": [],
   "source": [
    "import requests\n",
    "\n",
    "url = 'https://videos.pexels.com/video-files/15921892/15921892-uhd_3840_2160_50fps.mp4'\n",
    "video_data = requests.get(url, stream=True)\n",
    "\n",
    "video_path = path / 'video.mp4'\n",
    "\n",
    "with open(video_path, 'wb') as file:\n",
    "    for chunk in video_data.iter_content(chunk_size=1024):\n",
    "        file.write(chunk)"
   ]
  },
  {
   "cell_type": "code",
   "execution_count": 4,
   "metadata": {},
   "outputs": [],
   "source": [
    "path_frames = path / 'frames'\n",
    "path_frames.mkdir(exist_ok=True, parents=True)"
   ]
  },
  {
   "cell_type": "code",
   "execution_count": 8,
   "metadata": {},
   "outputs": [],
   "source": [
    "import cv2\n",
    "\n",
    "capture = cv2.VideoCapture(str(video_path))\n",
    "\n",
    "success, frame = capture.read()\n",
    "\n",
    "count = 0\n",
    "\n",
    "fps = int(capture.get(cv2.CAP_PROP_FPS))"
   ]
  },
  {
   "cell_type": "code",
   "execution_count": 10,
   "metadata": {},
   "outputs": [
    {
     "data": {
      "text/plain": [
       "50"
      ]
     },
     "execution_count": 10,
     "metadata": {},
     "output_type": "execute_result"
    }
   ],
   "source": [
    "fps"
   ]
  },
  {
   "cell_type": "code",
   "execution_count": 11,
   "metadata": {},
   "outputs": [
    {
     "name": "stdout",
     "output_type": "stream",
     "text": [
      "................\n",
      "Done\n"
     ]
    }
   ],
   "source": [
    "while success:\n",
    "    if count % fps == 0:\n",
    "        frame_name = f'frame{count:03d}.jpg'\n",
    "        cv2.imwrite(str(path_frames / frame_name), frame)\n",
    "        print('.', end='')\n",
    "\n",
    "    success, frame = capture.read()\n",
    "    count += 1\n",
    "    \n",
    "print('\\nDone')"
   ]
  },
  {
   "cell_type": "markdown",
   "metadata": {},
   "source": [
    "### Classificação de vídeo"
   ]
  },
  {
   "cell_type": "markdown",
   "metadata": {},
   "source": [
    "Para esta tarefa, precisamos da biblioteca `decord` e da biblioteca `av`:\n",
    "\n",
    "```bash\n",
    "pip install decord av\n",
    "```"
   ]
  },
  {
   "cell_type": "markdown",
   "metadata": {},
   "source": [
    "Vamos usar um modelo de classificação de vídeo: https://huggingface.co/facebook/timesformer-base-finetuned-k600"
   ]
  },
  {
   "cell_type": "code",
   "execution_count": 12,
   "metadata": {},
   "outputs": [
    {
     "name": "stderr",
     "output_type": "stream",
     "text": [
      "c:\\Users\\annaf\\AppData\\Local\\Programs\\Python\\Python312\\Lib\\site-packages\\huggingface_hub\\file_download.py:140: UserWarning: `huggingface_hub` cache-system uses symlinks by default to efficiently store duplicated files but your machine does not support them in C:\\Users\\annaf\\.cache\\huggingface\\hub\\models--facebook--timesformer-base-finetuned-k600. Caching files will still work but in a degraded version that might require more space on your disk. This warning can be disabled by setting the `HF_HUB_DISABLE_SYMLINKS_WARNING` environment variable. For more details, see https://huggingface.co/docs/huggingface_hub/how-to-cache#limitations.\n",
      "To support symlinks on Windows, you either need to activate Developer Mode or to run Python as an administrator. In order to activate developer mode, see this article: https://docs.microsoft.com/en-us/windows/apps/get-started/enable-your-device-for-development\n",
      "  warnings.warn(message)\n",
      "Device set to use cpu\n"
     ]
    }
   ],
   "source": [
    "from transformers import pipeline\n",
    "\n",
    "model = 'facebook/timesformer-base-finetuned-k600'\n",
    "video_classifier = pipeline('video-classification', model=model)"
   ]
  },
  {
   "cell_type": "code",
   "execution_count": 14,
   "metadata": {},
   "outputs": [],
   "source": [
    "from datasets import load_dataset\n",
    "\n",
    "data = load_dataset('shinonomelab/cleanvid-15m_map', streaming=True, split='train')"
   ]
  },
  {
   "cell_type": "code",
   "execution_count": 15,
   "metadata": {},
   "outputs": [
    {
     "name": "stdout",
     "output_type": "stream",
     "text": [
      "{'id': 1095327279, 'description': \"Close-up of a male welder in protective clothing welding metal in a blacksmith's workshop. The process of making a metal fence in a forge.\", 'duration': 7.96, 'aspectratio': '16:9', 'videourl': 'https://www.shutterstock.com/shutterstock/videos/1095327279/preview/stock-footage-close-up-of-a-male-welder-in-protective-clothing-welding-metal-in-a-blacksmith-s-workshop-the.mp4', 'author': '{\"accountsId\": 162697858, \"contributorId\": 162697858, \"bio\": \"\\\\u0421\\\\u0432\\\\u0430\\\\u0434\\\\u0435\\\\u0431\\\\u043d\\\\u044b\\\\u0439 \\\\u0438 \\\\u0441\\\\u0435\\\\u043c\\\\u0435\\\\u0439\\\\u043d\\\\u044b\\\\u0439 \\\\u0432\\\\u0438\\\\u0434\\\\u0435\\\\u043e\\\\u0433\\\\u0440\\\\u0430\\\\u0444. \\\\u0417\\\\u0430\\\\u043d\\\\u0438\\\\u043c\\\\u0430\\\\u044e\\\\u0441\\\\u044c \\\\u0432\\\\u0438\\\\u0434\\\\u0435\\\\u043e\\\\u0441\\\\u044a\\\\u0435\\\\u043c\\\\u043a\\\\u043e\\\\u0439 \\\\u0441 2007 \\\\u0433\\\\u043e\\\\u0434\\\\u0430.\", \"location\": \"ua\", \"website\": \"-\", \"contributorTypeList\": [\"videographer\"], \"equipmentList\": [\"Canon 6D\", \"Canon 50 mm 1.4\", \"Canon 85 mm 1.8\", \"Canon 24-105 mm 4.0\", \"Sigma 15-30 mm 3.5-5.6\"], \"styleList\": [\"footage_food\", \"footage_macro\", \"footage_model\"], \"subjectMatterList\": [\"business\", \"holiday\", \"medical\", \"people\", \"wedding\"], \"facebookUsername\": \"profile.php?id=100001876422303\", \"googlePlusUsername\": \"-\", \"linkedinUsername\": \"-\", \"pinterestUsername\": \"-\", \"tumblrUsername\": \"-\", \"twitterUsername\": \"-\", \"storageKey\": \"contributors/162697858/avatars/original.jpg\", \"cdnThumbPath\": \"/contributors/162697858/avatars/thumb.jpg\", \"displayName\": \"Ievgen Tytarenko\", \"vanityUrlUsername\": \"Eugene TITARENKO\", \"portfolioUrlSuffix\": \"Eugene+TITARENKO\", \"portfolioUrl\": \"https://www.shutterstock.com/g/Eugene+TITARENKO\", \"hasPublicSets\": false, \"facebookUrl\": \"https://www.facebook.com/profile.php%3Fid%3D100001876422303\", \"linkedinUrl\": \"https://www.linkedin.com/in/-\", \"pinterestUrl\": \"https://pinterest.com/-\", \"twitterUrl\": \"https://twitter.com/-\"}', 'categories': '[\"Industrial\", \"People\"]', 'framerate': 25.0, 'r18': 0}\n",
      "\n",
      "\n",
      "====================\n",
      "\n",
      "\n",
      "{'id': 1079808617, 'description': 'Portrait shot of caucasian woman wearing protective mask standing outdoor in forest, looking at the camera and smiling. Eco environmental concept. Diverse multicultural team cleaning nature concept', 'duration': 9.92, 'aspectratio': '16:9', 'videourl': 'https://www.shutterstock.com/shutterstock/videos/1079808617/preview/stock-footage-portrait-shot-of-caucasian-woman-wearing-protective-mask-standing-outdoor-in-forest-looking-at-the.mp4', 'author': '{\"accountsId\": 141465620, \"contributorId\": 3303725, \"bio\": \"Everyone has a story to tell.\", \"location\": \"ua\", \"website\": \"vimeo.com/user47046906\", \"contributorTypeList\": [\"photographer\", \"videographer\"], \"equipmentList\": [\"Red\", \"Canon\", \"Blackmagic\"], \"styleList\": [\"nature\", \"portrait\", \"footage_model\"], \"subjectMatterList\": [\"architectural\", \"business\", \"fashion\", \"industrial\", \"people\"], \"facebookUsername\": \"ihor.vesna\", \"storageKey\": \"contributors/3303725/avatars/original.jpg?t=1550316601048\", \"cdnThumbPath\": \"/contributors/3303725/avatars/thumb.jpg\", \"displayName\": \"VesnaArt\", \"vanityUrlUsername\": \"Vesna Art\", \"portfolioUrlSuffix\": \"Vesna+Art\", \"portfolioUrl\": \"https://www.shutterstock.com/g/Vesna+Art\", \"instagramUsername\": \"vesnaart_stock\", \"hasPublicSets\": true, \"instagramUrl\": \"https://www.instagram.com/vesnaart_stock\", \"facebookUrl\": \"https://www.facebook.com/ihor.vesna\"}', 'categories': '[\"Nature\", \"People\"]', 'framerate': 25.0, 'r18': 0}\n",
      "\n",
      "\n",
      "====================\n",
      "\n",
      "\n",
      "{'id': 23897377, 'description': 'Dehydrated coconut flakes on a wood background.', 'duration': 11.0, 'aspectratio': '16:9', 'videourl': 'https://www.shutterstock.com/shutterstock/videos/23897377/preview/stock-footage-dehydrated-coconut-flakes-on-a-wood-background.mp4', 'author': '{\"accountsId\": 102382309, \"contributorId\": 1059122, \"bio\": \"Food photographer and videographer.\\\\r\\\\narinaphotography-com\", \"location\": \"us\", \"website\": \"www.arinaphotography.com\", \"contributorTypeList\": [\"photographer\", \"videographer\"], \"equipmentList\": [\"\"], \"styleList\": [\"aerial\", \"food\", \"lifestyle\"], \"subjectMatterList\": [\"food_and_drink\"], \"facebookUsername\": \"arinaphotography\", \"googlePlusUsername\": \"107465890598208601959\", \"linkedinUsername\": \"arinahabich\", \"twitterUsername\": \"arinaphoto\", \"storageKey\": \"/contributors/1059122/avatars/thumb.jpg\", \"cdnThumbPath\": \"/contributors/1059122/avatars/thumb.jpg\", \"displayName\": \"Arina P Habich\", \"vanityUrlUsername\": \"arinaphabich\", \"portfolioUrlSuffix\": \"arinaphabich\", \"portfolioUrl\": \"https://www.shutterstock.com/g/arinaphabich\", \"hasPublicSets\": false, \"facebookUrl\": \"https://www.facebook.com/arinaphotography\", \"linkedinUrl\": \"https://www.linkedin.com/in/arinahabich/\", \"twitterUrl\": \"https://twitter.com/arinaphoto\"}', 'categories': '[\"Food and Drink\"]', 'framerate': 29.97, 'r18': 0}\n",
      "\n",
      "\n",
      "====================\n",
      "\n",
      "\n",
      "{'id': 26082050, 'description': 'Marsh frog ( Pelophylax ridibundus ) tadpoles in pond water in spring', 'duration': 11.0, 'aspectratio': '16:9', 'videourl': 'https://www.shutterstock.com/shutterstock/videos/26082050/preview/stock-footage-marsh-frog-pelophylax-ridibundus-tadpoles-in-pond-water-in-spring.mp4', 'author': '{\"accountsId\": 112992253, \"contributorId\": 1120541, \"bio\": \"Wildlife Photography and Videography\", \"location\": \"gb\", \"website\": \"www.stephanmorris.com\", \"contributorTypeList\": [\"photographer\", \"videographer\"], \"equipmentList\": [\"Olympus OMD EM1 mk2\", \"Olympus OMD EM1 Mk3\", \"Olympus OMD EM1X\"], \"styleList\": [\"macro\", \"nature\"], \"subjectMatterList\": [\"animals\", \"nature\", \"wildlife\"], \"storageKey\": \"contributors/1120541/avatars/original.jpg\", \"cdnThumbPath\": \"/contributors/1120541/avatars/thumb.jpg\", \"displayName\": \"Stephan Morris\", \"vanityUrlUsername\": \"StephanMorris\", \"portfolioUrlSuffix\": \"StephanMorris\", \"portfolioUrl\": \"https://www.shutterstock.com/g/StephanMorris\", \"hasPublicSets\": true}', 'categories': '[\"Animals/Wildlife\"]', 'framerate': 25.0, 'r18': 0}\n",
      "\n",
      "\n",
      "====================\n",
      "\n",
      "\n",
      "{'id': 23790220, 'description': 'Thai dog', 'duration': 7.0, 'aspectratio': '16:9', 'videourl': 'https://www.shutterstock.com/shutterstock/videos/23790220/preview/stock-footage-thai-dog.mp4', 'author': '{\"accountsId\": 125557604, \"contributorId\": 2341514, \"location\": \"th\", \"contributorTypeList\": [\"photographer\", \"illustrator\"], \"equipmentList\": [], \"styleList\": [], \"subjectMatterList\": [], \"googlePlusUsername\": \"+PONGSAKON\", \"displayName\": \"Aofza photoracing\", \"vanityUrlUsername\": \"pongsakon muikrathok\", \"portfolioUrlSuffix\": \"pongsakon+muikrathok\", \"portfolioUrl\": \"https://www.shutterstock.com/g/pongsakon+muikrathok\", \"hasPublicSets\": false}', 'categories': '[\"Animals/Wildlife\", \"Nature\"]', 'framerate': 29.97, 'r18': 0}\n",
      "\n",
      "\n",
      "====================\n",
      "\n",
      "\n"
     ]
    }
   ],
   "source": [
    "for line in data.take(5):\n",
    "    print(line)\n",
    "    print('\\n\\n====================\\n\\n')"
   ]
  },
  {
   "cell_type": "code",
   "execution_count": 16,
   "metadata": {},
   "outputs": [
    {
     "name": "stdout",
     "output_type": "stream",
     "text": [
      "Video: https://www.shutterstock.com/shutterstock/videos/1095327279/preview/stock-footage-close-up-of-a-male-welder-in-protective-clothing-welding-metal-in-a-blacksmith-s-workshop-the.mp4\n",
      "Predictions:\n",
      "{'score': 0.8637503981590271, 'label': 'welding'}\n",
      "{'score': 0.06536673754453659, 'label': 'using circular saw'}\n",
      "{'score': 0.019854390993714333, 'label': 'making horseshoes'}\n",
      "{'score': 0.015573847107589245, 'label': 'using a power drill'}\n",
      "{'score': 0.009469602257013321, 'label': 'bending metal'}\n",
      "\n",
      "\n",
      "====================\n",
      "\n",
      "\n",
      "Video: https://www.shutterstock.com/shutterstock/videos/1079808617/preview/stock-footage-portrait-shot-of-caucasian-woman-wearing-protective-mask-standing-outdoor-in-forest-looking-at-the.mp4\n",
      "Predictions:\n",
      "{'score': 0.4843772053718567, 'label': 'archery'}\n",
      "{'score': 0.10088776797056198, 'label': 'stretching arm'}\n",
      "{'score': 0.09427043795585632, 'label': 'huddling'}\n",
      "{'score': 0.039245180785655975, 'label': 'planting trees'}\n",
      "{'score': 0.03581533208489418, 'label': 'throwing axe'}\n",
      "\n",
      "\n",
      "====================\n",
      "\n",
      "\n",
      "Video: https://www.shutterstock.com/shutterstock/videos/1040624594/preview/stock-footage-aerial-shot-of-woman-standing-on-the-edge-of-cliff-at-sunset.mp4\n",
      "Predictions:\n",
      "{'score': 0.17002741992473602, 'label': 'yoga'}\n",
      "{'score': 0.16001276671886444, 'label': 'walking the dog'}\n",
      "{'score': 0.1407286673784256, 'label': 'tai chi'}\n",
      "{'score': 0.12479128688573837, 'label': 'playing bagpipes'}\n",
      "{'score': 0.060789335519075394, 'label': 'spinning poi'}\n",
      "\n",
      "\n",
      "====================\n",
      "\n",
      "\n",
      "Video: https://www.shutterstock.com/shutterstock/videos/1052324629/preview/stock-footage-seriously-working-young-student-or-employee-on-laptop-at-home-concept-of-work-from-home-or-wfh-e.mp4\n",
      "Predictions:\n",
      "{'score': 0.3224197328090668, 'label': 'winking'}\n",
      "{'score': 0.12624970078468323, 'label': 'staring'}\n",
      "{'score': 0.08972197026014328, 'label': 'raising eyebrows'}\n",
      "{'score': 0.0675811693072319, 'label': 'texting'}\n",
      "{'score': 0.03803399205207825, 'label': 'yawning'}\n",
      "\n",
      "\n",
      "====================\n",
      "\n",
      "\n",
      "Video: https://www.shutterstock.com/shutterstock/videos/16253272/preview/stock-footage-opening-of-fizzy-drink-can.mp4\n",
      "Predictions:\n",
      "{'score': 0.3572863042354584, 'label': 'fidgeting'}\n",
      "{'score': 0.3566388189792633, 'label': 'lock picking'}\n",
      "{'score': 0.054330382496118546, 'label': 'drumming fingers'}\n",
      "{'score': 0.04406850412487984, 'label': 'using remote controller (not gaming)'}\n",
      "{'score': 0.024933839216828346, 'label': 'sharpening pencil'}\n",
      "\n",
      "\n",
      "====================\n",
      "\n",
      "\n",
      "Video: https://www.shutterstock.com/shutterstock/videos/1013788502/preview/stock-footage-portrait-of-content-shy-woman-wearing-basic-t-shirt-nodding-and-accept-proposal-with-smile.mp4\n",
      "Predictions:\n",
      "{'score': 0.09054511040449142, 'label': 'answering questions'}\n",
      "{'score': 0.07707226276397705, 'label': 'stretching arm'}\n",
      "{'score': 0.06294886767864227, 'label': 'applying cream'}\n",
      "{'score': 0.05099466070532799, 'label': 'carrying baby'}\n",
      "{'score': 0.04681606590747833, 'label': 'putting on sari'}\n",
      "\n",
      "\n",
      "====================\n",
      "\n",
      "\n",
      "Video: https://www.shutterstock.com/shutterstock/videos/5834954/preview/stock-footage-djoum-cameroon-october-pygmy-tribe-in-africa-working-harvesting-cocoa.mp4\n",
      "Predictions:\n",
      "{'score': 0.6906609535217285, 'label': 'bee keeping'}\n",
      "{'score': 0.04335973039269447, 'label': 'archery'}\n",
      "{'score': 0.04098617285490036, 'label': 'playing didgeridoo'}\n",
      "{'score': 0.031326908618211746, 'label': 'weaving basket'}\n",
      "{'score': 0.027906926348805428, 'label': 'playing paintball'}\n",
      "\n",
      "\n",
      "====================\n",
      "\n",
      "\n",
      "Video: https://www.shutterstock.com/shutterstock/videos/1018748074/preview/stock-footage-a-man-stands-on-a-high-point-in-the-mountains-and-admires-a-beautiful-view-there-are-peaks-around.mp4\n",
      "Predictions:\n",
      "{'score': 0.9502131342887878, 'label': 'ice climbing'}\n",
      "{'score': 0.010091051459312439, 'label': 'carving ice'}\n",
      "{'score': 0.004303082823753357, 'label': 'abseiling'}\n",
      "{'score': 0.003187622409313917, 'label': 'shoveling snow'}\n",
      "{'score': 0.0025391096714884043, 'label': 'slacklining'}\n",
      "\n",
      "\n",
      "====================\n",
      "\n",
      "\n",
      "Video: https://www.shutterstock.com/shutterstock/videos/1044619273/preview/stock-footage-michigan-usa-celebrating-boy-s-birthday-with-beautiful-cake-and-beautifully-decorated-with.mp4\n",
      "Predictions:\n",
      "{'score': 0.19783297181129456, 'label': 'doing nails'}\n",
      "{'score': 0.13390561938285828, 'label': 'drumming fingers'}\n",
      "{'score': 0.07804934680461884, 'label': 'pinching'}\n",
      "{'score': 0.0386759378015995, 'label': 'shaking hands'}\n",
      "{'score': 0.031902704387903214, 'label': 'wrapping present'}\n",
      "\n",
      "\n",
      "====================\n",
      "\n",
      "\n",
      "Video: https://www.shutterstock.com/shutterstock/videos/1086415745/preview/stock-footage-surprised-man-clutching-his-head.mp4\n",
      "Predictions:\n",
      "{'score': 0.4920419156551361, 'label': 'applauding'}\n",
      "{'score': 0.21040970087051392, 'label': 'yawning'}\n",
      "{'score': 0.04685356840491295, 'label': 'clapping'}\n",
      "{'score': 0.042041704058647156, 'label': 'answering questions'}\n",
      "{'score': 0.03166133165359497, 'label': 'waving hand'}\n",
      "\n",
      "\n",
      "====================\n",
      "\n",
      "\n"
     ]
    }
   ],
   "source": [
    "n_people = 0\n",
    "\n",
    "for line in data:\n",
    "    categories = line['categories']\n",
    "    \n",
    "    if 'People' not in categories:\n",
    "        continue\n",
    "    \n",
    "    url = line['videourl']\n",
    "    prediction = video_classifier(url)\n",
    "    \n",
    "    print(f'Video: {url}\\nPredictions:')\n",
    "    for p in prediction:\n",
    "        print(p)\n",
    "        \n",
    "    print('\\n\\n====================\\n\\n')\n",
    "    n_people += 1\n",
    "    \n",
    "    if n_people == 10:\n",
    "        break"
   ]
  }
 ],
 "metadata": {
  "kernelspec": {
   "display_name": "Python 3",
   "language": "python",
   "name": "python3"
  },
  "language_info": {
   "codemirror_mode": {
    "name": "ipython",
    "version": 3
   },
   "file_extension": ".py",
   "mimetype": "text/x-python",
   "name": "python",
   "nbconvert_exporter": "python",
   "pygments_lexer": "ipython3",
   "version": "3.12.6"
  }
 },
 "nbformat": 4,
 "nbformat_minor": 2
}
